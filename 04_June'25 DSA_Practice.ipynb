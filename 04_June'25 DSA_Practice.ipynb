{
  "nbformat": 4,
  "nbformat_minor": 0,
  "metadata": {
    "colab": {
      "provenance": []
    },
    "kernelspec": {
      "name": "python3",
      "display_name": "Python 3"
    },
    "language_info": {
      "name": "python"
    }
  },
  "cells": [
    {
      "cell_type": "code",
      "execution_count": null,
      "metadata": {
        "colab": {
          "base_uri": "https://localhost:8080/"
        },
        "id": "YThv3ktk2WfL",
        "outputId": "2bde75c2-0b49-4600-e0c1-e18b2da87dc4"
      },
      "outputs": [
        {
          "output_type": "stream",
          "name": "stdout",
          "text": [
            "[1, 2, 3, 4]\n",
            "2.5\n"
          ]
        }
      ],
      "source": [
        "nums1 = [1,2] # m\n",
        "nums2 = [3,4] # n\n",
        "\n",
        "num=nums1+nums2\n",
        "num.sort()\n",
        "print(num)\n",
        "n=len(num)\n",
        "\n",
        "if n%2==1:\n",
        "  print(num[n//2])\n",
        "else:\n",
        "  mid1=num[n//2 -1 ]\n",
        "  mid2=num[n//2]\n",
        "  print((mid1+mid2)/2)"
      ]
    },
    {
      "cell_type": "code",
      "source": [
        "import statistics\n",
        "\n",
        "data = [1,2,3,4]\n",
        "\n",
        "median = statistics.median(data)\n",
        "\n",
        "print(f\"Median of odd-length list: {median}\")"
      ],
      "metadata": {
        "colab": {
          "base_uri": "https://localhost:8080/"
        },
        "id": "abh3jqbx2tqI",
        "outputId": "c5eeb12b-040b-4388-e7d6-1586f6d62a21"
      },
      "execution_count": null,
      "outputs": [
        {
          "output_type": "stream",
          "name": "stdout",
          "text": [
            "Median of odd-length list: 2.5\n"
          ]
        }
      ]
    },
    {
      "cell_type": "code",
      "source": [
        "# single number\n",
        "num=[1,1,2,3,3]\n",
        "num.sort()\n",
        "n=len(num)\n",
        "i=0\n",
        "if n<=1:\n",
        "  print(num[0])\n",
        "\n",
        "for j in range(1,n,2):\n",
        "  if num[i]==num[j]:\n",
        "    i+=2\n",
        "  else:\n",
        "    print(num[i])\n",
        "    break\n",
        "  if i==num.index(num[-1]):\n",
        "    print(num[i])"
      ],
      "metadata": {
        "id": "8Eb12bSp4u3B",
        "colab": {
          "base_uri": "https://localhost:8080/"
        },
        "outputId": "181bf8f5-2c24-415d-c726-03d45d8368b4"
      },
      "execution_count": null,
      "outputs": [
        {
          "output_type": "stream",
          "name": "stdout",
          "text": [
            "2\n"
          ]
        }
      ]
    },
    {
      "cell_type": "code",
      "source": [
        "n=2147483645\n",
        "k=2\n",
        "count=1\n",
        "while n>1:\n",
        "  qut, remd = divmod(n , k)\n",
        "  n=qut;\n",
        "  if remd==1:\n",
        "    count+=1\n",
        "print(count)"
      ],
      "metadata": {
        "colab": {
          "base_uri": "https://localhost:8080/"
        },
        "id": "WDDLEdGsyUaM",
        "outputId": "7e684ee2-05db-4f6a-a1f9-ade40b4eb842"
      },
      "execution_count": null,
      "outputs": [
        {
          "output_type": "stream",
          "name": "stdout",
          "text": [
            "30\n"
          ]
        }
      ]
    },
    {
      "cell_type": "code",
      "source": [
        "from binascii import hexlify\n",
        "# Container with most water\n",
        "\n",
        "heights=[1,1]\n",
        "i, j = 0 , len(heights)-1\n",
        "max_area=0\n",
        "\n",
        "while i<j:\n",
        "  height=min(heights[i], heights[j])\n",
        "  width=j-i\n",
        "  area=height*width\n",
        "\n",
        "  if area > max_area:\n",
        "    max_area=area\n",
        "\n",
        "  if heights[i]<heights[j]:\n",
        "    i+=1\n",
        "  else:\n",
        "    j-=1\n",
        "\n",
        "print(max_area)"
      ],
      "metadata": {
        "id": "zrrdzb6pAAWs",
        "colab": {
          "base_uri": "https://localhost:8080/"
        },
        "outputId": "39d70038-a652-448b-9fb6-3441f1a4357f"
      },
      "execution_count": null,
      "outputs": [
        {
          "output_type": "stream",
          "name": "stdout",
          "text": [
            "1\n"
          ]
        }
      ]
    },
    {
      "cell_type": "code",
      "source": [
        "# Remove element\n",
        "\n",
        "nums = [3,2,3,5,7,2,8,6]\n",
        "val = 2\n",
        "k=0\n",
        "for i in range(len(nums)):\n",
        "  if nums[i]!=val:\n",
        "    nums[k]=nums[i]\n",
        "    k+=1\n",
        "print(k)"
      ],
      "metadata": {
        "id": "A3ZQW1HWEivQ",
        "colab": {
          "base_uri": "https://localhost:8080/"
        },
        "outputId": "ee88283f-1627-44a5-9788-6edc74942148"
      },
      "execution_count": null,
      "outputs": [
        {
          "output_type": "stream",
          "name": "stdout",
          "text": [
            "6\n"
          ]
        }
      ]
    },
    {
      "cell_type": "code",
      "source": [
        "def removeElement(self, nums: List[int], val: int) -> int:\n",
        "        count=0\n",
        "        for x in nums:\n",
        "            if x==val:\n",
        "                nums.remove(x)\n",
        "            else:\n",
        "                count+=1\n",
        "        return count\n",
        "removeElement(nums=[3,2,2,3], val=3)"
      ],
      "metadata": {
        "colab": {
          "base_uri": "https://localhost:8080/",
          "height": 211
        },
        "id": "qpTAFAeQFEEt",
        "outputId": "ad863b27-cabb-43b3-bd72-a58d51623dd4"
      },
      "execution_count": null,
      "outputs": [
        {
          "output_type": "error",
          "ename": "NameError",
          "evalue": "name 'List' is not defined",
          "traceback": [
            "\u001b[0;31m---------------------------------------------------------------------------\u001b[0m",
            "\u001b[0;31mNameError\u001b[0m                                 Traceback (most recent call last)",
            "\u001b[0;32m/tmp/ipython-input-19-4024072884.py\u001b[0m in \u001b[0;36m<cell line: 0>\u001b[0;34m()\u001b[0m\n\u001b[0;32m----> 1\u001b[0;31m \u001b[0;32mdef\u001b[0m \u001b[0mremoveElement\u001b[0m\u001b[0;34m(\u001b[0m\u001b[0mself\u001b[0m\u001b[0;34m,\u001b[0m \u001b[0mnums\u001b[0m\u001b[0;34m:\u001b[0m \u001b[0mList\u001b[0m\u001b[0;34m[\u001b[0m\u001b[0mint\u001b[0m\u001b[0;34m]\u001b[0m\u001b[0;34m,\u001b[0m \u001b[0mval\u001b[0m\u001b[0;34m:\u001b[0m \u001b[0mint\u001b[0m\u001b[0;34m)\u001b[0m \u001b[0;34m->\u001b[0m \u001b[0mint\u001b[0m\u001b[0;34m:\u001b[0m\u001b[0;34m\u001b[0m\u001b[0;34m\u001b[0m\u001b[0m\n\u001b[0m\u001b[1;32m      2\u001b[0m         \u001b[0mcount\u001b[0m\u001b[0;34m=\u001b[0m\u001b[0;36m0\u001b[0m\u001b[0;34m\u001b[0m\u001b[0;34m\u001b[0m\u001b[0m\n\u001b[1;32m      3\u001b[0m         \u001b[0;32mfor\u001b[0m \u001b[0mx\u001b[0m \u001b[0;32min\u001b[0m \u001b[0mnums\u001b[0m\u001b[0;34m:\u001b[0m\u001b[0;34m\u001b[0m\u001b[0;34m\u001b[0m\u001b[0m\n\u001b[1;32m      4\u001b[0m             \u001b[0;32mif\u001b[0m \u001b[0mx\u001b[0m\u001b[0;34m==\u001b[0m\u001b[0mval\u001b[0m\u001b[0;34m:\u001b[0m\u001b[0;34m\u001b[0m\u001b[0;34m\u001b[0m\u001b[0m\n\u001b[1;32m      5\u001b[0m                 \u001b[0mnums\u001b[0m\u001b[0;34m.\u001b[0m\u001b[0mremove\u001b[0m\u001b[0;34m(\u001b[0m\u001b[0mx\u001b[0m\u001b[0;34m)\u001b[0m\u001b[0;34m\u001b[0m\u001b[0;34m\u001b[0m\u001b[0m\n",
            "\u001b[0;31mNameError\u001b[0m: name 'List' is not defined"
          ]
        }
      ]
    },
    {
      "cell_type": "code",
      "source": [
        "# reverser Bits\n",
        "\n",
        "bit=1111111111111111111111111111111\n",
        "str_bit=str(bit)\n",
        "rev_bit=int(str_bit[::-1])\n",
        "\n",
        "for i in range(-1, 32, ):\n"
      ],
      "metadata": {
        "id": "cPhxfeRjIpA4",
        "colab": {
          "base_uri": "https://localhost:8080/",
          "height": 106
        },
        "outputId": "ee78f032-88c7-4b63-9ff3-9b87fee298f4"
      },
      "execution_count": null,
      "outputs": [
        {
          "output_type": "error",
          "ename": "SyntaxError",
          "evalue": "incomplete input (ipython-input-10-180792932.py, line 7)",
          "traceback": [
            "\u001b[0;36m  File \u001b[0;32m\"/tmp/ipython-input-10-180792932.py\"\u001b[0;36m, line \u001b[0;32m7\u001b[0m\n\u001b[0;31m    for i in range():\u001b[0m\n\u001b[0m                     ^\u001b[0m\n\u001b[0;31mSyntaxError\u001b[0m\u001b[0;31m:\u001b[0m incomplete input\n"
          ]
        }
      ]
    },
    {
      "cell_type": "code",
      "source": [
        "nums = [4,5,6,7,0,3,1,2]\n",
        "target = 0\n",
        "# Output: 4\n",
        "\n",
        "mid=nums[len(nums)//2]\n",
        "print(mid)\n",
        "\n",
        "while n\n",
        "if target==mid:\n",
        "  print()\n"
      ],
      "metadata": {
        "colab": {
          "base_uri": "https://localhost:8080/"
        },
        "id": "bZ11CjNXQc7i",
        "outputId": "f217d2f1-3c74-4ccd-d377-db3caabb3e75"
      },
      "execution_count": null,
      "outputs": [
        {
          "output_type": "stream",
          "name": "stdout",
          "text": [
            "0\n"
          ]
        }
      ]
    },
    {
      "cell_type": "code",
      "source": [],
      "metadata": {
        "id": "Hjo_tH_Z-tFC"
      },
      "execution_count": null,
      "outputs": []
    },
    {
      "cell_type": "code",
      "source": [
        "nums = [3,30,34,5,9]\n",
        "# \"9534330\"\n",
        "num=str(nums[::-1])\n",
        "res=\"\".join(num)\n",
        "print(res)"
      ],
      "metadata": {
        "id": "ClN41NiosD4h",
        "colab": {
          "base_uri": "https://localhost:8080/"
        },
        "outputId": "be7ce866-dff6-4b9d-deea-e27e284450c7"
      },
      "execution_count": null,
      "outputs": [
        {
          "output_type": "stream",
          "name": "stdout",
          "text": [
            "<class 'str'>\n",
            "[9, 5, 34, 30, 3]\n"
          ]
        }
      ]
    },
    {
      "cell_type": "code",
      "source": [],
      "metadata": {
        "id": "dK26--GF-y9a"
      },
      "execution_count": null,
      "outputs": []
    },
    {
      "cell_type": "code",
      "source": [
        "p=\"()[]{}\"\n",
        "\n",
        "j=-1\n",
        "\n",
        "for i in range()"
      ],
      "metadata": {
        "id": "l0_E6vWlPFKd"
      },
      "execution_count": null,
      "outputs": []
    },
    {
      "cell_type": "code",
      "source": [
        "haystack = \"sadbutsad\"\n",
        "needle = \"sad\"\n",
        "# Output: 0\n",
        "n=len(needle)\n",
        "i=0\n",
        "while n<0:\n",
        "  if num[i]\n",
        "\n"
      ],
      "metadata": {
        "id": "Ni4HGlCnQGnR"
      },
      "execution_count": null,
      "outputs": []
    },
    {
      "cell_type": "code",
      "source": [
        "hash(24)"
      ],
      "metadata": {
        "colab": {
          "base_uri": "https://localhost:8080/"
        },
        "id": "ewaDWfIJLl9m",
        "outputId": "7d7cbf01-a596-4dfa-fd70-c2757c6c0f78"
      },
      "execution_count": null,
      "outputs": [
        {
          "output_type": "execute_result",
          "data": {
            "text/plain": [
              "24"
            ]
          },
          "metadata": {},
          "execution_count": 4
        }
      ]
    },
    {
      "cell_type": "code",
      "source": [
        "abs(hash(\"Saurabh\"))%"
      ],
      "metadata": {
        "colab": {
          "base_uri": "https://localhost:8080/"
        },
        "id": "zcKk63qXLl7O",
        "outputId": "3e6289a3-6c2c-489a-e1b8-cf52de18f4f3"
      },
      "execution_count": null,
      "outputs": [
        {
          "output_type": "execute_result",
          "data": {
            "text/plain": [
              "2"
            ]
          },
          "metadata": {},
          "execution_count": 5
        }
      ]
    },
    {
      "cell_type": "code",
      "source": [
        "# reverse integer\n",
        "\n",
        "x=-123\n",
        "ans=0\n",
        "int_min=(-2**31)\n",
        "int_max=(2**31)-1\n",
        "\n",
        "sign = -1 if x<0 else 1\n",
        "x=abs(x)\n",
        "while x != 0:\n",
        "  digit=x%10\n",
        "  ans=(ans*10)+digit\n",
        "  x=x//10\n",
        "\n",
        "ans*=sign\n",
        "\n",
        "if int_min<=ans<=int_max:\n",
        "  print(ans)\n",
        "else:\n",
        "  print(0)"
      ],
      "metadata": {
        "colab": {
          "base_uri": "https://localhost:8080/"
        },
        "id": "030_6-heLl4q",
        "outputId": "836a4150-246b-485b-9ff7-adf7aefce28f"
      },
      "execution_count": null,
      "outputs": [
        {
          "output_type": "stream",
          "name": "stdout",
          "text": [
            "-321\n"
          ]
        }
      ]
    },
    {
      "cell_type": "code",
      "source": [
        "2^2"
      ],
      "metadata": {
        "colab": {
          "base_uri": "https://localhost:8080/"
        },
        "id": "Eq9qqn9WLl1z",
        "outputId": "730c8be1-53b4-4a70-d898-006548f57db1"
      },
      "execution_count": null,
      "outputs": [
        {
          "output_type": "execute_result",
          "data": {
            "text/plain": [
              "0"
            ]
          },
          "metadata": {},
          "execution_count": 28
        }
      ]
    },
    {
      "cell_type": "code",
      "source": [
        "num1 = \"123\"\n",
        "num2 = \"456\"\n",
        "# Output: \"56088\"\n",
        "\n",
        "nums1=int(num1)\n",
        "nums2=int(num2)\n",
        "res=nums1*nums2\n",
        "print(type(str(res)))"
      ],
      "metadata": {
        "colab": {
          "base_uri": "https://localhost:8080/"
        },
        "id": "88ILI6fALlzC",
        "outputId": "5bef412b-aac8-4e67-c792-5d152a6e236c"
      },
      "execution_count": null,
      "outputs": [
        {
          "output_type": "stream",
          "name": "stdout",
          "text": [
            "<class 'str'>\n"
          ]
        }
      ]
    },
    {
      "cell_type": "code",
      "source": [
        "x=2.00000\n",
        "n = -2\n",
        "\n",
        "print(x**n)"
      ],
      "metadata": {
        "colab": {
          "base_uri": "https://localhost:8080/"
        },
        "id": "Zo5ikz2ALlv9",
        "outputId": "599a486b-9c03-428c-fd68-576ec1277efc"
      },
      "execution_count": null,
      "outputs": [
        {
          "output_type": "stream",
          "name": "stdout",
          "text": [
            "0.25\n"
          ]
        }
      ]
    },
    {
      "cell_type": "code",
      "source": [
        "# points = [[1,1],[2,2],[3,3]]\n",
        "# Output: 3\n",
        "\n",
        "\n",
        "points = [[1,1],[3,2],[5,3],[4,1],[2,3],[1,4]]\n",
        "# Output = 4\n",
        "\n"
      ],
      "metadata": {
        "id": "rvjFH1sGLltW"
      },
      "execution_count": null,
      "outputs": []
    },
    {
      "cell_type": "code",
      "source": [
        "n = 19\n",
        "# Output: true\n",
        "# Explanation:\n",
        "# 12 + 92 = 82\n",
        "# 82 + 22 = 68\n",
        "# 62 + 82 = 100\n",
        "# 12 + 02 + 02 = 1\n",
        "stn=str(n)\n",
        "\n"
      ],
      "metadata": {
        "colab": {
          "base_uri": "https://localhost:8080/",
          "height": 211
        },
        "id": "O4-Vam0zLljK",
        "outputId": "315e848f-2829-42ee-bdad-c2d8b0c45dd9"
      },
      "execution_count": null,
      "outputs": [
        {
          "output_type": "error",
          "ename": "TypeError",
          "evalue": "'int' object is not iterable",
          "traceback": [
            "\u001b[0;31m---------------------------------------------------------------------------\u001b[0m",
            "\u001b[0;31mTypeError\u001b[0m                                 Traceback (most recent call last)",
            "\u001b[0;32m/tmp/ipython-input-42-198197672.py\u001b[0m in \u001b[0;36m<cell line: 0>\u001b[0;34m()\u001b[0m\n\u001b[1;32m      9\u001b[0m \u001b[0;34m\u001b[0m\u001b[0m\n\u001b[1;32m     10\u001b[0m \u001b[0;32mfor\u001b[0m \u001b[0mi\u001b[0m \u001b[0;32min\u001b[0m \u001b[0mstn\u001b[0m\u001b[0;34m:\u001b[0m\u001b[0;34m\u001b[0m\u001b[0;34m\u001b[0m\u001b[0m\n\u001b[0;32m---> 11\u001b[0;31m   \u001b[0;32mif\u001b[0m \u001b[0msum\u001b[0m\u001b[0;34m(\u001b[0m\u001b[0mint\u001b[0m\u001b[0;34m(\u001b[0m\u001b[0mi\u001b[0m\u001b[0;34m)\u001b[0m\u001b[0;34m**\u001b[0m\u001b[0;36m2\u001b[0m \u001b[0;34m,\u001b[0m \u001b[0;34m(\u001b[0m\u001b[0mint\u001b[0m\u001b[0;34m(\u001b[0m\u001b[0mi\u001b[0m\u001b[0;34m)\u001b[0m\u001b[0;34m+\u001b[0m\u001b[0;36m1\u001b[0m\u001b[0;34m)\u001b[0m\u001b[0;34m**\u001b[0m\u001b[0;36m2\u001b[0m\u001b[0;34m)\u001b[0m\u001b[0;34m==\u001b[0m\u001b[0;36m1\u001b[0m\u001b[0;34m:\u001b[0m\u001b[0;34m\u001b[0m\u001b[0;34m\u001b[0m\u001b[0m\n\u001b[0m\u001b[1;32m     12\u001b[0m     \u001b[0mprint\u001b[0m\u001b[0;34m(\u001b[0m\u001b[0;32mTrue\u001b[0m\u001b[0;34m)\u001b[0m\u001b[0;34m\u001b[0m\u001b[0;34m\u001b[0m\u001b[0m\n\u001b[1;32m     13\u001b[0m   \u001b[0;32melse\u001b[0m\u001b[0;34m:\u001b[0m\u001b[0;34m\u001b[0m\u001b[0;34m\u001b[0m\u001b[0m\n",
            "\u001b[0;31mTypeError\u001b[0m: 'int' object is not iterable"
          ]
        }
      ]
    },
    {
      "cell_type": "code",
      "source": [
        "n = 3\n",
        "# Output: true\n",
        "# Explanation: 2^4 = 16\n",
        "if n<1:\n",
        "  print(False)\n",
        "else:\n",
        "  while n%2==0:\n",
        "    n = n//2\n",
        "  if n==1:\n",
        "    print(True)\n",
        "  else:\n",
        "    print(False)"
      ],
      "metadata": {
        "colab": {
          "base_uri": "https://localhost:8080/"
        },
        "id": "30EvcktqLlfy",
        "outputId": "5c8f1a0e-25d4-47fb-c626-bd741e50a6a1"
      },
      "execution_count": null,
      "outputs": [
        {
          "output_type": "stream",
          "name": "stdout",
          "text": [
            "False\n"
          ]
        }
      ]
    },
    {
      "cell_type": "code",
      "source": [
        "# count prime\n",
        "n = 4\n",
        "# Output: 4\n",
        "if n<=1:\n",
        "  print(0)\n",
        "if n==2 or n==3:\n",
        "  print(1)\n",
        "\n",
        "if n>3:\n",
        "\n",
        "\n"
      ],
      "metadata": {
        "colab": {
          "base_uri": "https://localhost:8080/",
          "height": 106
        },
        "id": "yyYZ0FsELlcX",
        "outputId": "359e1cc1-84c8-4591-e803-ecae8e8d4bde"
      },
      "execution_count": null,
      "outputs": [
        {
          "output_type": "error",
          "ename": "SyntaxError",
          "evalue": "incomplete input (ipython-input-82-1702853551.py, line 11)",
          "traceback": [
            "\u001b[0;36m  File \u001b[0;32m\"/tmp/ipython-input-82-1702853551.py\"\u001b[0;36m, line \u001b[0;32m11\u001b[0m\n\u001b[0;31m    \u001b[0m\n\u001b[0m    ^\u001b[0m\n\u001b[0;31mSyntaxError\u001b[0m\u001b[0;31m:\u001b[0m incomplete input\n"
          ]
        }
      ]
    },
    {
      "cell_type": "code",
      "source": [
        "digits = [1,2,3,5,9]\n",
        "# Output: [4,3,2,2]\n",
        "\n",
        "i=len(digits)-1\n",
        "\n",
        "while i>=0:\n",
        "  if digits[i]<9:\n",
        "    digits[i]+=1\n",
        "    print(digits)\n",
        "    break\n",
        "  digits[i]=0\n",
        "  i-=1\n",
        "else:\n",
        "  print([1]+digits)\n",
        "# if i<0:\n",
        "#   digits.insert(0,1)\n",
        "\n",
        "# print(digits)"
      ],
      "metadata": {
        "colab": {
          "base_uri": "https://localhost:8080/"
        },
        "id": "z92FRUDNtb0D",
        "outputId": "9386e54f-3ddc-4136-cd11-3260ea2d8209"
      },
      "execution_count": null,
      "outputs": [
        {
          "output_type": "stream",
          "name": "stdout",
          "text": [
            "[1, 2, 3, 6, 0]\n"
          ]
        }
      ]
    },
    {
      "cell_type": "code",
      "source": [
        "# Hash Table\n",
        "\n",
        "class Dictionary:\n",
        "  def __init__(self, size):\n",
        "    self.size=size\n",
        "    self.slots=[None]*self.size\n",
        "    self.data=[None]*self.size\n",
        "\n",
        "  def put(self, key, value):\n",
        "    hash_value = self.hash_function(key)\n",
        "\n",
        "    if self.slots[hash_value]==None:\n",
        "      self.slots[hash_value]=key\n",
        "      self.data[hash_value]=data\n",
        "\n",
        "    else:\n",
        "      if self.slots[hash_value]==key:\n",
        "        self.data[hash_value]=value\n",
        "      else:\n",
        "        new_hash_value = self.rehash(hash_value)\n",
        "\n",
        "        while self.slots[new_hash_value]==None and self.slots[new_hash_value]!=key:\n",
        "          new_hash_value=self.rehash(new_hash_value)\n",
        "\n",
        "        if self.slots[new_hash_value]==None:\n",
        "          self.slots[new_hash_value]=key\n",
        "          self.data[new_hash_value]=data\n",
        "\n",
        "        else:\n",
        "          self.data[new_hash_value]=value\n",
        "\n",
        "  def __setitem__(self, key, value):\n",
        "    self.put(key, value)\n",
        "\n",
        "  def rehash(self, old_hash):\n",
        "    return (old_hash + 1) % self.size\n",
        "\n",
        "  def hash_function(self, key):\n",
        "    return abs(hash(key))%self.size\n"
      ],
      "metadata": {
        "id": "ufa8kr3XtbwV"
      },
      "execution_count": null,
      "outputs": []
    },
    {
      "cell_type": "code",
      "source": [
        "D1 = Dictionary(4)"
      ],
      "metadata": {
        "id": "wUlNNlIYtbtf"
      },
      "execution_count": null,
      "outputs": []
    },
    {
      "cell_type": "code",
      "source": [],
      "metadata": {
        "id": "2zFhH3FtaZBX"
      },
      "execution_count": null,
      "outputs": []
    },
    {
      "cell_type": "code",
      "source": [
        "print(D1.slots)\n",
        "print(D1.data)"
      ],
      "metadata": {
        "id": "4-NOEonStbqi",
        "colab": {
          "base_uri": "https://localhost:8080/"
        },
        "outputId": "aa55c008-c48e-4073-cf0e-fa96dc6cf92e"
      },
      "execution_count": null,
      "outputs": [
        {
          "output_type": "stream",
          "name": "stdout",
          "text": [
            "['G', None, 'GGa', 'GG']\n",
            "[57, None, 57, 57]\n"
          ]
        }
      ]
    },
    {
      "cell_type": "code",
      "source": [
        "D1['GGa'] = 57"
      ],
      "metadata": {
        "id": "ZsXoSQV0tbnf"
      },
      "execution_count": null,
      "outputs": []
    },
    {
      "cell_type": "code",
      "source": [
        "D1['G'] = 57"
      ],
      "metadata": {
        "id": "PJ0Nyz0Atbkp"
      },
      "execution_count": null,
      "outputs": []
    },
    {
      "cell_type": "code",
      "source": [
        "D1['GG'] = 57"
      ],
      "metadata": {
        "id": "Hnab7TKbtbhd"
      },
      "execution_count": null,
      "outputs": []
    },
    {
      "cell_type": "code",
      "source": [
        "D1['GGaa'] = 57"
      ],
      "metadata": {
        "id": "nVZTJdqKaTRb"
      },
      "execution_count": null,
      "outputs": []
    },
    {
      "cell_type": "code",
      "source": [
        "# count one\n",
        "\n",
        "n = 13\n",
        "# 6\n",
        "count=0\n",
        "for i in range(1,n):\n",
        "  if i == 1 or"
      ],
      "metadata": {
        "id": "XD7ofdN3aXhX",
        "colab": {
          "base_uri": "https://localhost:8080/",
          "height": 106
        },
        "outputId": "096a4b9f-0bfd-4133-93dc-01dfb024f861"
      },
      "execution_count": null,
      "outputs": [
        {
          "output_type": "error",
          "ename": "SyntaxError",
          "evalue": "incomplete input (ipython-input-58-400915688.py, line 6)",
          "traceback": [
            "\u001b[0;36m  File \u001b[0;32m\"/tmp/ipython-input-58-400915688.py\"\u001b[0;36m, line \u001b[0;32m6\u001b[0m\n\u001b[0;31m    for i in range(1,n):\u001b[0m\n\u001b[0m                        ^\u001b[0m\n\u001b[0;31mSyntaxError\u001b[0m\u001b[0;31m:\u001b[0m incomplete input\n"
          ]
        }
      ]
    },
    {
      "cell_type": "code",
      "source": [],
      "metadata": {
        "id": "ItKOgXP_hAzW"
      },
      "execution_count": null,
      "outputs": []
    },
    {
      "cell_type": "code",
      "source": [
        "s='([]{})'\n",
        "\n",
        "mapping={')':'(' , ']':'[', '}':'{'}\n",
        "stack=[]\n",
        "\n",
        "for char in s:\n",
        "  # if it's open bracket\n",
        "  if char in mapping.values():\n",
        "    stack.append(char)\n",
        "  # if it's cloed bracket\n",
        "  elif char in mapping:\n",
        "    if stack[-1] == mapping[char]:\n",
        "      stack.pop()\n",
        "if len(stack)==0:\n",
        "  print(True)\n",
        "else:\n",
        "  print(False)"
      ],
      "metadata": {
        "colab": {
          "base_uri": "https://localhost:8080/"
        },
        "id": "5jUVYmm-hAuJ",
        "outputId": "db2414ff-5bf3-41c7-bd0e-2c55d26b3d36"
      },
      "execution_count": null,
      "outputs": [
        {
          "output_type": "stream",
          "name": "stdout",
          "text": [
            "True\n"
          ]
        }
      ]
    },
    {
      "cell_type": "code",
      "source": [
        "dic={1:'ram', 2:'siyam', 3:'garm'}\n",
        "stack=['ram', 'siyam', 'gram']\n",
        "for char in dic:\n",
        "  if not stack or stack[-1] != dic[char]:\n",
        "    print(False)\n",
        "  else:\n",
        "    print(True)"
      ],
      "metadata": {
        "colab": {
          "base_uri": "https://localhost:8080/"
        },
        "id": "O0I80njhhAqw",
        "outputId": "85c8c9da-3e6c-4e92-a288-070ff759d202"
      },
      "execution_count": null,
      "outputs": [
        {
          "output_type": "stream",
          "name": "stdout",
          "text": [
            "False\n",
            "False\n",
            "False\n"
          ]
        }
      ]
    },
    {
      "cell_type": "code",
      "source": [
        "# MinStack\n",
        "\n",
        "class MinStack:\n",
        "\n",
        "  def __init__(self):\n",
        "    self.stack=[]\n",
        "    self.minStack=[]\n",
        "\n",
        "  def push(self, val):\n",
        "    self.stack.append(val)\n",
        "    if self.minStack:\n",
        "      self.minStack.append(min(val, self.minStack[-1]))\n",
        "    else:\n",
        "      self.minStack.append(val)\n",
        "\n",
        "  def pop(self):\n",
        "    self.stack.pop()\n",
        "    self.minStack.pop()\n",
        "\n",
        "  def top(self):\n",
        "    return self.stack[-1]\n",
        "\n",
        "  def getMin(self):\n",
        "    return self.minStack[-1]"
      ],
      "metadata": {
        "id": "SJL0N2hAhAn8"
      },
      "execution_count": null,
      "outputs": []
    },
    {
      "cell_type": "code",
      "source": [
        "minstack = MinStack()"
      ],
      "metadata": {
        "id": "lIzWib8BhAk4"
      },
      "execution_count": null,
      "outputs": []
    },
    {
      "cell_type": "code",
      "source": [
        "minstack.push(-3)"
      ],
      "metadata": {
        "id": "u_3lU1RDhAiN"
      },
      "execution_count": null,
      "outputs": []
    },
    {
      "cell_type": "code",
      "source": [
        "minstack.getMin()"
      ],
      "metadata": {
        "id": "tzkD1T7GhAfJ",
        "colab": {
          "base_uri": "https://localhost:8080/"
        },
        "outputId": "e32a251e-1f9e-4a35-d30e-97a0418ac4c8"
      },
      "execution_count": null,
      "outputs": [
        {
          "output_type": "execute_result",
          "data": {
            "text/plain": [
              "-3"
            ]
          },
          "metadata": {},
          "execution_count": 46
        }
      ]
    },
    {
      "cell_type": "code",
      "source": [
        "minstack.pop()"
      ],
      "metadata": {
        "id": "2067x-8mhAcX"
      },
      "execution_count": null,
      "outputs": []
    },
    {
      "cell_type": "code",
      "source": [
        "minstack.top()"
      ],
      "metadata": {
        "id": "4wCyyUaHhAZd",
        "colab": {
          "base_uri": "https://localhost:8080/"
        },
        "outputId": "580fe594-59f3-4e49-92fb-a9b319113193"
      },
      "execution_count": null,
      "outputs": [
        {
          "output_type": "execute_result",
          "data": {
            "text/plain": [
              "0"
            ]
          },
          "metadata": {},
          "execution_count": 48
        }
      ]
    },
    {
      "cell_type": "code",
      "source": [
        "minstack.getMin()"
      ],
      "metadata": {
        "id": "yaTttkAqhAWf",
        "colab": {
          "base_uri": "https://localhost:8080/"
        },
        "outputId": "b6fc3942-72cb-4f00-ae83-63d4cbd9ad04"
      },
      "execution_count": null,
      "outputs": [
        {
          "output_type": "execute_result",
          "data": {
            "text/plain": [
              "-2"
            ]
          },
          "metadata": {},
          "execution_count": 49
        }
      ]
    },
    {
      "cell_type": "code",
      "source": [
        "# nums = [1,3,5,6]\n",
        "# target = 7\n",
        "# Output: 4\n",
        "\n",
        "# nums = [1,3,5,6]\n",
        "# target = 2\n",
        "# Output: 1\n",
        "\n",
        "\n",
        "# Output: 2\n",
        "\n",
        "# nums = [1,3,5,6,7]\n",
        "# target = 2\n",
        "\n",
        "nums = [1,3,5,6]\n",
        "target = 5\n",
        "\n",
        "left, right = 0, len(nums)-1\n",
        "\n",
        "while left<=right:\n",
        "  mid = len(nums)//2\n",
        "\n",
        "  if target == nums[mid]:\n",
        "    print(mid)\n",
        "    break\n",
        "\n",
        "  elif target<nums[mid]:\n",
        "    right = mid - 1\n",
        "  else:\n",
        "    left = mid + 1\n",
        "\n",
        "print(left)"
      ],
      "metadata": {
        "id": "9K-X6fIGhATm",
        "colab": {
          "base_uri": "https://localhost:8080/"
        },
        "outputId": "7291dfca-ffb8-4976-c699-385f5dd9a11e"
      },
      "execution_count": null,
      "outputs": [
        {
          "output_type": "stream",
          "name": "stdout",
          "text": [
            "2\n",
            "0\n"
          ]
        }
      ]
    },
    {
      "cell_type": "code",
      "source": [
        "nums = [1]\n",
        "\n",
        "# Output: 8\n",
        "\n",
        "n=len(nums)\n",
        "nums.sort()\n",
        "\n",
        "expect=0\n",
        "for i in range(0, n):\n",
        "  if nums[i]==expect:\n",
        "    expect+=1\n",
        "  else:\n",
        "    print(i)\n",
        "    break\n",
        "else:\n",
        "  print(expect)"
      ],
      "metadata": {
        "id": "PCkFKpD4hAQk",
        "colab": {
          "base_uri": "https://localhost:8080/"
        },
        "outputId": "8302ec23-c9d9-4aae-a365-7a723cddb8af"
      },
      "execution_count": null,
      "outputs": [
        {
          "output_type": "stream",
          "name": "stdout",
          "text": [
            "0\n"
          ]
        }
      ]
    },
    {
      "cell_type": "code",
      "source": [
        "# Find Duplicates\n",
        "\n",
        "nums = [1,1,1,3,3,4,3,2,4,2]\n",
        "nums.sort()\n",
        "print(nums)\n",
        "i=0\n",
        "while i<len(nums)-1:\n",
        "  if nums[i] != nums[i+1]:\n",
        "    i+=1\n",
        "  else:\n",
        "    print(True)\n",
        "    break\n",
        "else:\n",
        "  print(False)"
      ],
      "metadata": {
        "id": "VxzOryX_hAJf",
        "colab": {
          "base_uri": "https://localhost:8080/"
        },
        "outputId": "97b88bf9-da81-468a-cb92-28efad56c9aa"
      },
      "execution_count": 16,
      "outputs": [
        {
          "output_type": "stream",
          "name": "stdout",
          "text": [
            "[1, 1, 1, 2, 2, 3, 3, 3, 4, 4]\n",
            "True\n"
          ]
        }
      ]
    },
    {
      "cell_type": "code",
      "source": [],
      "metadata": {
        "id": "jFdTBt4U2Lyn"
      },
      "execution_count": null,
      "outputs": []
    }
  ]
}