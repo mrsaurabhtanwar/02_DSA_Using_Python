{
 "cells": [
  {
   "cell_type": "markdown",
   "id": "8ac41a76-54db-4915-ae8f-ac16bee816cf",
   "metadata": {},
   "source": [
    "## Bubble Sort"
   ]
  },
  {
   "cell_type": "code",
   "execution_count": 57,
   "id": "f297045d-943f-4638-a144-fbd6c194d35f",
   "metadata": {},
   "outputs": [
    {
     "name": "stdout",
     "output_type": "stream",
     "text": [
      "[2, 4, 5, 6, 7, 8, 9, 10]\n"
     ]
    }
   ],
   "source": [
    "# Write a python code to implement the bubble sort.\n",
    "\n",
    "def bubble_sort(arr):\n",
    "    for i in range(1,len(arr)):\n",
    "        for j in range(len(arr)-i):\n",
    "            if arr[j]>arr[j+1]:\n",
    "                arr[j], arr[j+1] = arr[j+1], arr[j]  \n",
    "arr=[2,4,5,6,7,9,10,8]\n",
    "bubble_sort(arr)\n",
    "print(arr)"
   ]
  },
  {
   "cell_type": "code",
   "execution_count": null,
   "id": "8db295f3-db0a-45f9-af8a-469a261fa834",
   "metadata": {},
   "outputs": [],
   "source": []
  },
  {
   "cell_type": "code",
   "execution_count": null,
   "id": "6c89ac74-1746-4e27-be6f-06a548fa4b7c",
   "metadata": {},
   "outputs": [],
   "source": []
  },
  {
   "cell_type": "code",
   "execution_count": 55,
   "id": "c797868b-83e6-4661-ad1e-42c1699ad40b",
   "metadata": {},
   "outputs": [
    {
     "name": "stdout",
     "output_type": "stream",
     "text": [
      "[2, 4, 5, 6, 85, 104, 404, 40, 494]\n"
     ]
    }
   ],
   "source": [
    "# Write a python function to implement modified bubble sort.\n",
    "\n",
    "def modified_bubble_sort(arr):\n",
    "    flag=False\n",
    "    for i in range(1,len(arr)):\n",
    "        flag=False\n",
    "        for j in range(len(arr)-i):\n",
    "            if arr[j]>arr[j+1]:\n",
    "                arr[j], arr[j+1] = arr[j+1], arr[j]\n",
    "                flag=False\n",
    "        if not flag:\n",
    "            break\n",
    "            \n",
    "arr=[2,4,5,6,85,494,104,404,40]\n",
    "modified_bubble_sort(arr)\n",
    "print(arr)"
   ]
  },
  {
   "cell_type": "code",
   "execution_count": null,
   "id": "bf003f9c-5758-4291-b77f-5ffbd52c5f78",
   "metadata": {},
   "outputs": [],
   "source": []
  },
  {
   "cell_type": "code",
   "execution_count": null,
   "id": "9f900585-a528-409e-b887-baf12a102d4a",
   "metadata": {},
   "outputs": [],
   "source": []
  },
  {
   "cell_type": "markdown",
   "id": "1a04036f-e482-4336-9caa-be7a0ee4dcce",
   "metadata": {},
   "source": [
    "## Selection Sort"
   ]
  },
  {
   "cell_type": "code",
   "execution_count": 61,
   "id": "4ef01999-cf8e-4f1b-af9f-6132600ebc0a",
   "metadata": {},
   "outputs": [
    {
     "name": "stdout",
     "output_type": "stream",
     "text": [
      "Sorted array: [11, 12, 22, 25, 64]\n"
     ]
    }
   ],
   "source": [
    "# Write a python function to implement selection sort\n",
    "\n",
    "def selection_sort(arr):\n",
    "    n=len(arr)\n",
    "    for i in range(n-1):\n",
    "        min_index=i\n",
    "        for j in range(i+1, n):\n",
    "            if arr[j]<arr[min_index]:\n",
    "                min_index=j\n",
    "        arr[i], arr[min_index] = arr[min_index], arr[i]\n",
    "arr = [64, 25, 12, 22, 11]\n",
    "selection_sort(arr)\n",
    "print(\"Sorted array:\", arr)"
   ]
  },
  {
   "cell_type": "code",
   "execution_count": null,
   "id": "064370aa-0dee-4919-b001-9990243b78b2",
   "metadata": {},
   "outputs": [],
   "source": []
  },
  {
   "cell_type": "code",
   "execution_count": null,
   "id": "e48bf42b-c8ab-4e41-81a3-ea3f082575d2",
   "metadata": {},
   "outputs": [],
   "source": []
  },
  {
   "cell_type": "markdown",
   "id": "0c6aff87-85c9-4639-a652-cbb8e0a4934c",
   "metadata": {},
   "source": [
    "## Inserion Sort"
   ]
  },
  {
   "cell_type": "code",
   "execution_count": 67,
   "id": "b2b29123-fa6b-4953-a563-a71e05b3013e",
   "metadata": {},
   "outputs": [
    {
     "name": "stdout",
     "output_type": "stream",
     "text": [
      "Sorted array: [11, 12, 22, 25, 64]\n"
     ]
    }
   ],
   "source": [
    "def insertion_sort(arr):\n",
    "    for i in range(1, len(arr)):\n",
    "        temp=arr[i]\n",
    "        j=i-1\n",
    "        while j>=0 and temp<arr[j]:\n",
    "            arr[j+1]=arr[j]\n",
    "            j-=1\n",
    "        arr[j+1]=temp\n",
    "arr = [64, 25, 12, 22, 11]\n",
    "insertion_sort(arr)\n",
    "print(\"Sorted array:\", arr)"
   ]
  },
  {
   "cell_type": "code",
   "execution_count": null,
   "id": "05273c8c-a3d0-4a44-9ab1-54a726844de9",
   "metadata": {},
   "outputs": [],
   "source": []
  },
  {
   "cell_type": "code",
   "execution_count": null,
   "id": "1ed21ab8-9e7c-47d0-842e-a209a473d7c1",
   "metadata": {},
   "outputs": [],
   "source": []
  },
  {
   "cell_type": "markdown",
   "id": "684746e3-c9af-4e31-8cf2-5b75d8259134",
   "metadata": {},
   "source": [
    "## Quick Sorting"
   ]
  },
  {
   "cell_type": "code",
   "execution_count": 128,
   "id": "7d676a0f-9093-48d2-93b3-69b71a0529b7",
   "metadata": {},
   "outputs": [
    {
     "name": "stdout",
     "output_type": "stream",
     "text": [
      "[2, 4, 5, 6, 40, 85, 104, 404, 494]\n"
     ]
    }
   ],
   "source": [
    "def quickSort(list1):\n",
    "    if len(list1)<=1:\n",
    "        return list1\n",
    "    else:\n",
    "        pivot=list1[0]\n",
    "        lesser=[x for x in list1[1:] if x<=pivot]\n",
    "        greater=[x for x in list1[1:] if x>pivot]\n",
    "        return quickSort(lesser)+[pivot]+quickSort(greater)\n",
    "list1=[2,4,5,6,85,494,104,404,40]\n",
    "mylist=quickSort(list1)\n",
    "print(mylist)"
   ]
  },
  {
   "cell_type": "code",
   "execution_count": null,
   "id": "8cd8a963-cbbc-4e70-b5a5-be181158dc7b",
   "metadata": {},
   "outputs": [],
   "source": []
  },
  {
   "cell_type": "code",
   "execution_count": null,
   "id": "ab22ab43-5fb1-415f-8a04-eb3ba4d6619b",
   "metadata": {},
   "outputs": [],
   "source": []
  },
  {
   "cell_type": "markdown",
   "id": "26389549-910f-4b70-a00f-cad728a4fd63",
   "metadata": {},
   "source": [
    "## Merge Sort"
   ]
  },
  {
   "cell_type": "code",
   "execution_count": 146,
   "id": "59e630db-f03a-4648-883d-bc0d482084a4",
   "metadata": {},
   "outputs": [
    {
     "name": "stdout",
     "output_type": "stream",
     "text": [
      "[4, 7, 30, 33, 38, 39, 43, 49, 59, 75, 79, 95, 249]\n"
     ]
    }
   ],
   "source": [
    "def merge_sort(list1):\n",
    "    if len(list1)>1:\n",
    "        mid=len(list1)//2\n",
    "        leftlist=list1[:mid]\n",
    "        rightlist=list1[mid:]\n",
    "\n",
    "        merge_sort(leftlist)\n",
    "        merge_sort(rightlist)\n",
    "\n",
    "        i=j=k=0 # i,j,k=0\n",
    "        while i<len(leftlist) and j<len(rightlist):\n",
    "            if leftlist[i]<rightlist[j]:\n",
    "                list1[k]=leftlist[i]\n",
    "                i+=1\n",
    "            else:\n",
    "                list1[k]=rightlist[j]\n",
    "                j+=1\n",
    "            k+=1\n",
    "        while i<len(leftlist):\n",
    "            list1[k]=leftlist[i]\n",
    "            i+=1\n",
    "            k+=1\n",
    "        while j<len(rightlist):\n",
    "            list1[k]=rightlist[j]\n",
    "            j+=1\n",
    "            k+=1\n",
    "myList=[75,38,249,49,33,43,95,59,79,7,39,30,4]\n",
    "merge_sort(myList)\n",
    "print(myList)"
   ]
  },
  {
   "cell_type": "code",
   "execution_count": null,
   "id": "66249e85-1af4-4cea-a050-6779bab19785",
   "metadata": {},
   "outputs": [],
   "source": []
  }
 ],
 "metadata": {
  "kernelspec": {
   "display_name": "Python [conda env:base] *",
   "language": "python",
   "name": "conda-base-py"
  },
  "language_info": {
   "codemirror_mode": {
    "name": "ipython",
    "version": 3
   },
   "file_extension": ".py",
   "mimetype": "text/x-python",
   "name": "python",
   "nbconvert_exporter": "python",
   "pygments_lexer": "ipython3",
   "version": "3.12.7"
  }
 },
 "nbformat": 4,
 "nbformat_minor": 5
}
