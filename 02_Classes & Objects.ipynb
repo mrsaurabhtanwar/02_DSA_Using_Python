{
 "cells": [
  {
   "cell_type": "markdown",
   "id": "306f5c23-6f0b-479a-9dbb-daf9ce5f2025",
   "metadata": {},
   "source": [
    "## Classes & Objects"
   ]
  },
  {
   "cell_type": "code",
   "execution_count": null,
   "id": "3bbebed8-a95e-4ab2-b9c2-93c9f8908f5a",
   "metadata": {},
   "outputs": [],
   "source": [
    "# 1. Define a python class Person with instance object variables name and age. Set Instance object variables in _init_() method. Also define show() method to display name and age of a person.\n",
    "# 2. Define a class Circle with instance object variable radius. Provide setter and getter for radius. Also define getArea() and getCircumference() methods.\n",
    "# 3. Define a class Rectangle with length and breadth as instance object variables. Provide setDimensions(), showDimensions() and getArea() method in it.\n",
    "# 4. Define a class Book with instance object variables bookid, title and price. Initialise them via_init_() method. Also define method to show book variables.\n",
    "# 5. Define a class Team with instance object variable a list of team member names. Provide methods to input member names and display member names."
   ]
  },
  {
   "cell_type": "code",
   "execution_count": null,
   "id": "9e9813d3-8dce-47d9-9516-681ca1801d2b",
   "metadata": {},
   "outputs": [],
   "source": [
    "# QUES 1. Define a python class Person with instance object variables name and age. \n",
    "# Set Instance object variables in _init_() method. Also define show() method to display name and age of a person."
   ]
  },
  {
   "cell_type": "code",
   "execution_count": 30,
   "id": "bb8efc23-7a01-460a-bc57-f6e585f3c8b4",
   "metadata": {},
   "outputs": [
    {
     "data": {
      "text/plain": [
       "'name: Rohit, Age: 18'"
      ]
     },
     "execution_count": 30,
     "metadata": {},
     "output_type": "execute_result"
    }
   ],
   "source": [
    "class person:\n",
    "    def __init__(self, name, age):\n",
    "        self.name=name\n",
    "        self.age=age\n",
    "\n",
    "    def show(self):\n",
    "        return f'name: {self.name}, Age: {self.age}'\n",
    "\n",
    "person1=person('Rohit' , 18)\n",
    "person2=person('Ram' , 28)\n",
    "person3=person('Kapil' , 58)\n",
    "person4=person('Kamal' ,68)\n",
    "person5=person('Jagan' , 38)\n",
    "\n",
    "person1.show()"
   ]
  },
  {
   "cell_type": "code",
   "execution_count": 29,
   "id": "12ecf1b2-fa55-4485-9ee2-99b18d325473",
   "metadata": {},
   "outputs": [
    {
     "data": {
      "text/plain": [
       "'name: Ram, Age: 28'"
      ]
     },
     "execution_count": 29,
     "metadata": {},
     "output_type": "execute_result"
    }
   ],
   "source": [
    "person2.show()"
   ]
  },
  {
   "cell_type": "code",
   "execution_count": 28,
   "id": "d21f0110-919e-4470-8f3f-bd1811884fb1",
   "metadata": {},
   "outputs": [
    {
     "data": {
      "text/plain": [
       "'name: Kapil, Age: 58'"
      ]
     },
     "execution_count": 28,
     "metadata": {},
     "output_type": "execute_result"
    }
   ],
   "source": [
    "person3.show()"
   ]
  },
  {
   "cell_type": "code",
   "execution_count": 27,
   "id": "02525db5-9fb4-435d-af46-6a3db4a3755c",
   "metadata": {},
   "outputs": [
    {
     "data": {
      "text/plain": [
       "'name: Kamal, Age: 68'"
      ]
     },
     "execution_count": 27,
     "metadata": {},
     "output_type": "execute_result"
    }
   ],
   "source": [
    "person4.show()"
   ]
  },
  {
   "cell_type": "code",
   "execution_count": null,
   "id": "52622a06-400c-4a0b-b3b6-0235e2d3d04a",
   "metadata": {},
   "outputs": [],
   "source": []
  },
  {
   "cell_type": "code",
   "execution_count": null,
   "id": "da1f94ae-9a0e-4f26-9784-3516d6eed29c",
   "metadata": {},
   "outputs": [],
   "source": []
  },
  {
   "cell_type": "code",
   "execution_count": null,
   "id": "f5f6e037-1cf0-4736-a41f-0d0be89508da",
   "metadata": {},
   "outputs": [],
   "source": [
    "#QUES 2. Define a class Circle with instance object variable radius. \n",
    "# Provide setter and getter for radius. Also define getArea() and getCircumference() methods."
   ]
  },
  {
   "cell_type": "code",
   "execution_count": 47,
   "id": "2a8d8b6f-e7f9-4c17-afb2-8e057e18a6da",
   "metadata": {},
   "outputs": [
    {
     "name": "stdout",
     "output_type": "stream",
     "text": [
      "Area is 12.57\n",
      "Circumference is 12.57\n",
      "Area is 50.27\n",
      "Circumference is 25.13\n",
      "Area is 113.10\n",
      "Circumference is 37.70\n"
     ]
    }
   ],
   "source": [
    "import math\n",
    "\n",
    "class Circle:\n",
    "    def __init__(self, radius):\n",
    "        self.radius=radius\n",
    "\n",
    "    # Setter for radius\n",
    "    def set_radius(self, new_radius):\n",
    "        self.radius = new_radius\n",
    "\n",
    "    # Getter for radius\n",
    "    def get_radius(self, radius):\n",
    "        self.radius = radius\n",
    "        \n",
    "    def getArea(self):\n",
    "        print(f'Area is {math.pi*(self.radius**2):.2f}')\n",
    "\n",
    "    def getCircumference(self):\n",
    "        print(f'Circumference is {2*math.pi*self.radius:.2f}')\n",
    "\n",
    "circle=Circle(2)\n",
    "circle.getArea()\n",
    "circle.getCircumference()\n",
    "\n",
    "circle=Circle(4)\n",
    "circle.getArea()\n",
    "circle.getCircumference()\n",
    "\n",
    "circle=Circle(6)\n",
    "circle.getArea()\n",
    "circle.getCircumference()"
   ]
  },
  {
   "cell_type": "code",
   "execution_count": null,
   "id": "b4a5f9d6-46a8-4161-874a-edc5d42c9687",
   "metadata": {},
   "outputs": [],
   "source": []
  },
  {
   "cell_type": "code",
   "execution_count": null,
   "id": "92ead4c3-061a-4391-aa99-47b50889dcf1",
   "metadata": {},
   "outputs": [],
   "source": []
  },
  {
   "cell_type": "code",
   "execution_count": null,
   "id": "959d641e-c802-4854-88b1-4aeda4f63dae",
   "metadata": {},
   "outputs": [],
   "source": [
    "# 3. Define a class Rectangle with length and breadth as instance object variables. Provide setDimensions(), showDimensions() and getArea() method in it.\n"
   ]
  },
  {
   "cell_type": "code",
   "execution_count": 56,
   "id": "db86142f-ce7e-4992-8dee-54b9f309c3d9",
   "metadata": {},
   "outputs": [
    {
     "name": "stdout",
     "output_type": "stream",
     "text": [
      "The Length is 1 & the Breadth is 5\n"
     ]
    },
    {
     "data": {
      "text/plain": [
       "'The area of the Ractangle is 5.00'"
      ]
     },
     "execution_count": 56,
     "metadata": {},
     "output_type": "execute_result"
    }
   ],
   "source": [
    "class Rectangle:\n",
    "    def __init__(self, length, breadth):\n",
    "        self.length=length\n",
    "        self.breadth=breadth\n",
    "\n",
    "    def setDimensions(self, new_length, new_breadth):\n",
    "        self.length = new_length\n",
    "        self.breadth = new_breadth\n",
    "\n",
    "    def showDimensions(self):\n",
    "        print(f'The Length is {self.length} & the Breadth is {self.breadth}')\n",
    "\n",
    "    def getArea(self):\n",
    "        return f'The area of the Ractangle is {self.length*self.breadth:.2f}'\n",
    "\n",
    "rectangle1=Rectangle(2,3)\n",
    "# rectangle1.showDimensions()\n",
    "rectangle1.getArea()\n",
    "\n",
    "rectangle1.setDimensions(1,5)\n",
    "rectangle1.showDimensions()\n",
    "rectangle1.getArea()"
   ]
  },
  {
   "cell_type": "code",
   "execution_count": null,
   "id": "0a5baf10-5119-4168-982a-00995487b7b3",
   "metadata": {},
   "outputs": [],
   "source": []
  },
  {
   "cell_type": "code",
   "execution_count": null,
   "id": "92c9d58b-f8d1-43f7-8356-e90baed49ebb",
   "metadata": {},
   "outputs": [],
   "source": []
  },
  {
   "cell_type": "code",
   "execution_count": null,
   "id": "316a1540-c75a-4394-945f-4fabcc166981",
   "metadata": {},
   "outputs": [],
   "source": [
    "#QUES 4. Define a class Book with instance object variables bookid, title and price. \n",
    "# Initialise them via_init_() method. Also define method to show book variables."
   ]
  },
  {
   "cell_type": "code",
   "execution_count": 67,
   "id": "091b5828-a2e3-43bf-95e0-b70aedebd955",
   "metadata": {},
   "outputs": [
    {
     "name": "stdout",
     "output_type": "stream",
     "text": [
      "Book ID: IINS202, Title: GOT, Price: 2000\n",
      "Book ID: IINS203, Title: HOD, Price: 3000\n"
     ]
    }
   ],
   "source": [
    "class Book:\n",
    "    def __init__(self, bookid, title, price):\n",
    "        self.bookid = bookid\n",
    "        self.title = title\n",
    "        self.price = price\n",
    "\n",
    "    def show(self):\n",
    "        return f'Book ID: {self.bookid}, Title: {self.title}, Price: {self.price}'\n",
    "\n",
    "book1=Book('IINS202', \"GOT\", int(2000))\n",
    "print(book1.show())\n",
    "\n",
    "book2=Book('IINS203', \"HOD\", int(3000))\n",
    "print(book2.show())"
   ]
  },
  {
   "cell_type": "code",
   "execution_count": null,
   "id": "49fbcf30-d085-4b2c-8ae3-d0edbae9fad8",
   "metadata": {},
   "outputs": [],
   "source": []
  },
  {
   "cell_type": "code",
   "execution_count": null,
   "id": "8380546c-b8f4-4f4c-b945-b6f77f50c1e3",
   "metadata": {},
   "outputs": [],
   "source": []
  },
  {
   "cell_type": "code",
   "execution_count": null,
   "id": "cff92ba0-cf6e-4f7f-badf-2d464c978b16",
   "metadata": {},
   "outputs": [],
   "source": [
    "# 5. Define a class Team with instance object variable a list of team member names. Provide methods to input member names and display member names."
   ]
  },
  {
   "cell_type": "code",
   "execution_count": 95,
   "id": "fc6d18df-7ce5-44f8-8a0b-c4269b31a41b",
   "metadata": {},
   "outputs": [],
   "source": [
    "class Team:\n",
    "    def __init__(self):\n",
    "        self.member=[]\n",
    "\n",
    "    def take_names(self):\n",
    "        while True:\n",
    "            names=input(\"Enter the name of team Member: \")\n",
    "            if not names: ## IF INPUT IS EMPTY THEN EXIT THE LOOP\n",
    "                break\n",
    "            self.member.append(names)\n",
    "            \n",
    "    def display_names(self):\n",
    "        for member in self.member:\n",
    "            print(f\"Team member: {member}\")\n",
    "\n",
    "team1=Team()"
   ]
  },
  {
   "cell_type": "code",
   "execution_count": 96,
   "id": "5e1394b5-dca7-49f3-b498-56f9996405c1",
   "metadata": {},
   "outputs": [
    {
     "name": "stdin",
     "output_type": "stream",
     "text": [
      "Enter the name of team Member:  Ram\n",
      "Enter the name of team Member:  Mohan\n",
      "Enter the name of team Member:  Kapil\n",
      "Enter the name of team Member:  Suresh\n",
      "Enter the name of team Member:  Saurabh\n",
      "Enter the name of team Member:  \n"
     ]
    }
   ],
   "source": [
    "team1.take_names()"
   ]
  },
  {
   "cell_type": "code",
   "execution_count": 99,
   "id": "ae797d0a-5baf-403f-9bbd-7f6c11d9f954",
   "metadata": {},
   "outputs": [
    {
     "name": "stdout",
     "output_type": "stream",
     "text": [
      "Team member: Ram\n",
      "Team member: Mohan\n",
      "Team member: Kapil\n",
      "Team member: Suresh\n",
      "Team member: Saurabh\n"
     ]
    }
   ],
   "source": [
    "team1.display_names()"
   ]
  },
  {
   "cell_type": "code",
   "execution_count": null,
   "id": "add54c2e-6e26-4a73-8125-383b8468bd08",
   "metadata": {},
   "outputs": [],
   "source": []
  },
  {
   "cell_type": "code",
   "execution_count": null,
   "id": "2002762d-9fbf-41ec-9130-62707d1ef261",
   "metadata": {},
   "outputs": [],
   "source": []
  },
  {
   "cell_type": "code",
   "execution_count": null,
   "id": "f6be4358-b368-4ce6-8eec-bddc185b5d70",
   "metadata": {},
   "outputs": [],
   "source": []
  },
  {
   "cell_type": "code",
   "execution_count": null,
   "id": "c9c03d85-670e-40b2-a840-1ae622a9f152",
   "metadata": {},
   "outputs": [],
   "source": []
  },
  {
   "cell_type": "code",
   "execution_count": null,
   "id": "d78a712f-88ad-4743-b295-7c580132978f",
   "metadata": {},
   "outputs": [],
   "source": []
  },
  {
   "cell_type": "code",
   "execution_count": null,
   "id": "50f5d319-545c-4e67-93bd-dbd418230ed6",
   "metadata": {},
   "outputs": [],
   "source": []
  },
  {
   "cell_type": "code",
   "execution_count": null,
   "id": "627df63c-a464-4a22-b735-d5b9b080d79e",
   "metadata": {},
   "outputs": [],
   "source": []
  },
  {
   "cell_type": "code",
   "execution_count": null,
   "id": "ba8bd559-ff2a-4881-aaf8-fd1aa086bcb7",
   "metadata": {},
   "outputs": [],
   "source": []
  },
  {
   "cell_type": "code",
   "execution_count": null,
   "id": "4764d1df-e8eb-4906-9e41-5d3bc70efb82",
   "metadata": {},
   "outputs": [],
   "source": []
  },
  {
   "cell_type": "code",
   "execution_count": null,
   "id": "110688a7-957e-428a-ac26-766d93e8b0b9",
   "metadata": {},
   "outputs": [],
   "source": []
  },
  {
   "cell_type": "code",
   "execution_count": null,
   "id": "f1f84f36-0433-4fb6-89d4-7b1f3060f002",
   "metadata": {},
   "outputs": [],
   "source": []
  }
 ],
 "metadata": {
  "kernelspec": {
   "display_name": "Python 3 (ipykernel)",
   "language": "python",
   "name": "python3"
  },
  "language_info": {
   "codemirror_mode": {
    "name": "ipython",
    "version": 3
   },
   "file_extension": ".py",
   "mimetype": "text/x-python",
   "name": "python",
   "nbconvert_exporter": "python",
   "pygments_lexer": "ipython3",
   "version": "3.13.0"
  }
 },
 "nbformat": 4,
 "nbformat_minor": 5
}
