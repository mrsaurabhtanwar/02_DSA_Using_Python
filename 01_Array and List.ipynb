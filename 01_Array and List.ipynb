{
 "cells": [
  {
   "cell_type": "code",
   "execution_count": null,
   "id": "d20ce6d2-9fd4-4fc5-b9da-74d092b6bd44",
   "metadata": {},
   "outputs": [],
   "source": [
    "Assignment "
   ]
  },
  {
   "cell_type": "code",
   "execution_count": null,
   "id": "c1f195ca-f69c-4935-baa5-774b158d9f15",
   "metadata": {},
   "outputs": [],
   "source": [
    "## Ques 1"
   ]
  },
  {
   "cell_type": "code",
   "execution_count": 5,
   "id": "686a31e2-9853-4dea-836e-2313562e38cb",
   "metadata": {},
   "outputs": [
    {
     "data": {
      "text/plain": [
       "[2, 4, 6, 9, 44, 56, 75]"
      ]
     },
     "execution_count": 5,
     "metadata": {},
     "output_type": "execute_result"
    }
   ],
   "source": [
    "arr=[2,4,9,44,6,75,56]\n",
    "arr.sort()\n",
    "arr"
   ]
  },
  {
   "cell_type": "code",
   "execution_count": 6,
   "id": "80bff861-093c-45ee-a13e-aa41ae9f093e",
   "metadata": {},
   "outputs": [
    {
     "name": "stdout",
     "output_type": "stream",
     "text": [
      "[2, 4, 9, 44, 6, 75, 56]\n"
     ]
    }
   ],
   "source": [
    "arr=[2,4,9,44,6,75,56]\n",
    "sort_arr=sorted(arr)\n",
    "print(arr)"
   ]
  },
  {
   "cell_type": "code",
   "execution_count": 7,
   "id": "9d54312e-1d26-4c2f-a8f0-430231e01718",
   "metadata": {},
   "outputs": [
    {
     "name": "stdout",
     "output_type": "stream",
     "text": [
      "[2, 4, 9, 44, 6, 75, 56]\n"
     ]
    }
   ],
   "source": [
    "arr=[2,4,9,44,6,75,56]\n",
    "\n",
    "def sort_arr():\n",
    "    return sorted(arr)\n",
    "\n",
    "print(arr)"
   ]
  },
  {
   "cell_type": "code",
   "execution_count": null,
   "id": "f77b0995-97a2-4853-9648-db78a0ab02a2",
   "metadata": {},
   "outputs": [],
   "source": []
  },
  {
   "cell_type": "code",
   "execution_count": null,
   "id": "115d8fb5-883f-4a56-b0f3-548dede89de6",
   "metadata": {},
   "outputs": [],
   "source": []
  },
  {
   "cell_type": "code",
   "execution_count": 8,
   "id": "f5002c13-efbf-410e-bec3-d12771478cce",
   "metadata": {},
   "outputs": [],
   "source": [
    "## QUES 2 given a list of heterogenus element. Write a python script to remove all non int values in list"
   ]
  },
  {
   "cell_type": "code",
   "execution_count": 21,
   "id": "3ab9c181-9b75-43d3-8531-df6602984215",
   "metadata": {},
   "outputs": [
    {
     "data": {
      "text/plain": [
       "[23, 33]"
      ]
     },
     "execution_count": 21,
     "metadata": {},
     "output_type": "execute_result"
    }
   ],
   "source": [
    "my_list=[23, 'hello', 'ram', 8.55, 33, True]\n",
    "int_list=[]\n",
    "\n",
    "def int_lists():\n",
    "    for i in my_list:\n",
    "        if type(i)==int:\n",
    "            int_list.append(i)\n",
    "    return int_list\n",
    "\n",
    "result=int_lists()\n",
    "            \n",
    "result"
   ]
  },
  {
   "cell_type": "code",
   "execution_count": 23,
   "id": "5d934369-4ae6-45ee-9c9f-dbd4a67e1407",
   "metadata": {},
   "outputs": [
    {
     "data": {
      "text/plain": [
       "[23, 33]"
      ]
     },
     "execution_count": 23,
     "metadata": {},
     "output_type": "execute_result"
    }
   ],
   "source": [
    "my_list=[23, 'hello', 'ram', 8.55, 33, True]\n",
    "\n",
    "int_list=[x for x in my_list if type(x)==int]\n",
    "\n",
    "int_list"
   ]
  },
  {
   "cell_type": "code",
   "execution_count": null,
   "id": "62aa74fb-7053-45ec-87be-32c5dd3b62fe",
   "metadata": {},
   "outputs": [],
   "source": []
  },
  {
   "cell_type": "code",
   "execution_count": null,
   "id": "af0df3af-82dd-492c-9311-37bf510f829b",
   "metadata": {},
   "outputs": [],
   "source": []
  },
  {
   "cell_type": "code",
   "execution_count": 24,
   "id": "381abc82-9450-4321-bb3a-888e1d8dcb29",
   "metadata": {},
   "outputs": [],
   "source": [
    "## QUES 3. Calculate average of element of list"
   ]
  },
  {
   "cell_type": "code",
   "execution_count": 33,
   "id": "09a8a81f-44cb-4c27-9761-4272703738e3",
   "metadata": {},
   "outputs": [
    {
     "name": "stdout",
     "output_type": "stream",
     "text": [
      "28.0\n"
     ]
    }
   ],
   "source": [
    "def avrage_of_list():\n",
    "    if my_list==0:\n",
    "        return 0\n",
    "    return sum(my_list)/len(my_list)\n",
    "\n",
    "my_list=[2,4,9,44,6,75,56]\n",
    "avg=avrage_of_list()\n",
    "\n",
    "print(avg)"
   ]
  },
  {
   "cell_type": "code",
   "execution_count": null,
   "id": "dbe4826c-1a24-4c06-b7f5-0a9f5616229b",
   "metadata": {},
   "outputs": [],
   "source": []
  },
  {
   "cell_type": "code",
   "execution_count": null,
   "id": "f22286ae-4182-4018-9382-ab40383316cd",
   "metadata": {},
   "outputs": [],
   "source": []
  },
  {
   "cell_type": "code",
   "execution_count": 34,
   "id": "6bf8caf9-dcc0-431c-84bc-a44d8f937d5c",
   "metadata": {},
   "outputs": [],
   "source": [
    "## QUES 4. WRITE A PYTHON SCRIPT TO CREATE A LIST OF FRIST N PRIME NUMBER"
   ]
  },
  {
   "cell_type": "code",
   "execution_count": 22,
   "id": "4302791c-7090-437c-bb12-e3dfc518cf13",
   "metadata": {},
   "outputs": [
    {
     "data": {
      "text/plain": [
       "[2, 3, 5, 7, 11, 13, 17, 19, 23, 29]"
      ]
     },
     "execution_count": 22,
     "metadata": {},
     "output_type": "execute_result"
    }
   ],
   "source": [
    "def is_prime(n):\n",
    "    if n==1:\n",
    "        return False\n",
    "    if n==2 or n==3:\n",
    "        return True\n",
    "    if n%2==0:\n",
    "        return False  ## To skip even numbers\n",
    "    for i in range(3, int(n**0.5)+1, 2):\n",
    "        if n%i==0:\n",
    "            return False\n",
    "    return True         \n",
    "\n",
    "def check_first_prime(N):\n",
    "    lst=[]\n",
    "    num=2\n",
    "    while len(lst)<N:\n",
    "        if is_prime(num):\n",
    "            lst.append(num)\n",
    "        num+=1\n",
    "    return lst\n",
    "\n",
    "check_first_prime(10)"
   ]
  },
  {
   "cell_type": "code",
   "execution_count": 23,
   "id": "2d006879-50c9-4188-8d0d-8ee7835a7b12",
   "metadata": {},
   "outputs": [
    {
     "data": {
      "text/plain": [
       "[2, 3, 5, 7, 11, 13, 17, 19, 23, 29, 31, 37, 41, 43, 47, 53, 59, 61, 67, 71]"
      ]
     },
     "execution_count": 23,
     "metadata": {},
     "output_type": "execute_result"
    }
   ],
   "source": [
    "check_first_prime(20)"
   ]
  },
  {
   "cell_type": "code",
   "execution_count": 24,
   "id": "227faa1c-7ea3-4802-8ef1-0458b8c3e5e8",
   "metadata": {},
   "outputs": [
    {
     "data": {
      "text/plain": [
       "False"
      ]
     },
     "execution_count": 24,
     "metadata": {},
     "output_type": "execute_result"
    }
   ],
   "source": [
    "def is_prime(n):\n",
    "    if n==1:\n",
    "        return False\n",
    "    if n==2 and n==3:\n",
    "        return True\n",
    "    if n%2==0:\n",
    "        return False  ## To skip even numbers\n",
    "    for i in range(3, int(n**0.5)+1, 2):\n",
    "        if n%i==0:\n",
    "            return False\n",
    "    return True   \n",
    "is_prime(12)"
   ]
  },
  {
   "cell_type": "code",
   "execution_count": null,
   "id": "031f074a-32f3-41cd-beaa-0f839b57157d",
   "metadata": {},
   "outputs": [],
   "source": []
  },
  {
   "cell_type": "code",
   "execution_count": null,
   "id": "0d904aa7-ba74-4519-a237-0d0f2e10e0db",
   "metadata": {},
   "outputs": [],
   "source": []
  },
  {
   "cell_type": "code",
   "execution_count": 25,
   "id": "2a27a425-ef26-465a-aa8a-2b9db8ec75f2",
   "metadata": {},
   "outputs": [],
   "source": [
    "## Create the list of first N numbers terms of fibonacci series"
   ]
  },
  {
   "cell_type": "code",
   "execution_count": 2,
   "id": "e6f317bd-ab87-4ea1-b732-3a5e8d921a37",
   "metadata": {},
   "outputs": [
    {
     "data": {
      "text/plain": [
       "[0, 1, 1, 2, 3, 5, 8, 13, 21, 34]"
      ]
     },
     "execution_count": 2,
     "metadata": {},
     "output_type": "execute_result"
    }
   ],
   "source": [
    "def fib_series(N):\n",
    "    lst=[]\n",
    "    a=0\n",
    "    b=1\n",
    "    count=1\n",
    "    while count<=N:\n",
    "        lst.append(a)\n",
    "        c=a+b\n",
    "        a=b\n",
    "        b=c\n",
    "        count+=1\n",
    "    return lst\n",
    "fib_series(10)"
   ]
  },
  {
   "cell_type": "code",
   "execution_count": 3,
   "id": "6805140e-bc69-4602-859c-76ade7bf5465",
   "metadata": {},
   "outputs": [
    {
     "data": {
      "text/plain": [
       "[0, 1, 1, 2, 3, 5, 8, 13, 21, 34]"
      ]
     },
     "execution_count": 3,
     "metadata": {},
     "output_type": "execute_result"
    }
   ],
   "source": [
    "## Optimaized Solution\n",
    "\n",
    "def fib_series(N):\n",
    "    lst=[]\n",
    "    a , b, count = 0, 1, 1\n",
    "    while count<=N:\n",
    "        lst.append(a)\n",
    "        a, b = b ,a+b\n",
    "        count+=1\n",
    "    return lst\n",
    "fib_series(10)"
   ]
  },
  {
   "cell_type": "code",
   "execution_count": null,
   "id": "125525b9-eebb-417b-9ce3-5248d6fc8c2a",
   "metadata": {},
   "outputs": [],
   "source": []
  }
 ],
 "metadata": {
  "kernelspec": {
   "display_name": "Python 3 (ipykernel)",
   "language": "python",
   "name": "python3"
  },
  "language_info": {
   "codemirror_mode": {
    "name": "ipython",
    "version": 3
   },
   "file_extension": ".py",
   "mimetype": "text/x-python",
   "name": "python",
   "nbconvert_exporter": "python",
   "pygments_lexer": "ipython3",
   "version": "3.13.0"
  }
 },
 "nbformat": 4,
 "nbformat_minor": 5
}
