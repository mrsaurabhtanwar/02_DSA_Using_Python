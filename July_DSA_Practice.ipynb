{
  "cells": [
    {
      "cell_type": "code",
      "execution_count": null,
      "metadata": {
        "colab": {
          "base_uri": "https://localhost:8080/"
        },
        "id": "xnc4i4MmlXtK",
        "outputId": "404d2d72-b557-4c37-885f-40600a05eee1"
      },
      "outputs": [
        {
          "name": "stdout",
          "output_type": "stream",
          "text": [
            "1\n"
          ]
        }
      ],
      "source": [
        "# maximum size subarray\n",
        "\n",
        "nums = [3,2,2,1]\n",
        "\n",
        "for i in range(len(nums)):\n",
        "  if nums[i]!="
      ]
    },
    {
      "cell_type": "code",
      "execution_count": null,
      "metadata": {
        "colab": {
          "base_uri": "https://localhost:8080/"
        },
        "id": "AnahpUENm41l",
        "outputId": "bec1eea6-7515-4a6c-8110-7d1ac169a6d8"
      },
      "outputs": [
        {
          "name": "stdout",
          "output_type": "stream",
          "text": [
            "[0, 0, 0, 1, 1, 1, 2, 2, 2, 2]\n"
          ]
        }
      ],
      "source": [
        "# color sort\n",
        "\n",
        "nums = [0,0,1,1,1,0,2,2,2,2]\n",
        "srt=0\n",
        "mid=0\n",
        "end=len(nums)-1\n",
        "\n",
        "while mid<=end:\n",
        "  if nums[mid]==0:\n",
        "    nums[srt] , nums[mid] = nums[mid], nums[srt]\n",
        "    srt+=1; mid+=1\n",
        "  elif nums[mid]==1:\n",
        "    mid+=1\n",
        "  else:\n",
        "    nums[mid], nums[end] = nums[end], nums[mid]\n",
        "    end-=1\n",
        "print(nums)"
      ]
    },
    {
      "cell_type": "code",
      "execution_count": null,
      "metadata": {
        "colab": {
          "base_uri": "https://localhost:8080/"
        },
        "id": "ESnDvcoLyNKl",
        "outputId": "05dd29f1-39d4-4bf3-8d56-f1fd90d58cce"
      },
      "outputs": [
        {
          "name": "stdout",
          "output_type": "stream",
          "text": [
            "6\n"
          ]
        }
      ],
      "source": [
        "s1 = \"Hello World\"\n",
        "# Output: 5\n",
        "\n",
        "s2 = \"   fly me   to   the moon  \"\n",
        "# Output: 4\n",
        "\n",
        "s3 = \"luffy is still joyboy\"\n",
        "# Output: 6\n",
        "\n",
        "s3.strip()\n",
        "word=s3.split()\n",
        "lst_word=word[-1]\n",
        "print(len(lst_word))"
      ]
    },
    {
      "cell_type": "code",
      "execution_count": null,
      "metadata": {
        "id": "tSwkDuORJynY"
      },
      "outputs": [],
      "source": [
        "x = 27\n",
        "# Output: 2\n",
        "[1,2,3,4,5,6,7,]\n",
        "\n",
        "for i in range(1, x):\n",
        "  if x == 0:\n",
        "    print(0)\n",
        "  left, right = 1, x\n",
        "  while left <= right:\n",
        "    mid = (left+right)//2\n",
        "\n"
      ]
    },
    {
      "cell_type": "code",
      "execution_count": null,
      "metadata": {
        "colab": {
          "base_uri": "https://localhost:8080/"
        },
        "id": "6lZ7jC1dM25E",
        "outputId": "6cce126c-66a0-4ef3-8260-3a1f54873fa9"
      },
      "outputs": [
        {
          "name": "stdout",
          "output_type": "stream",
          "text": [
            "0\n",
            "9\n"
          ]
        }
      ],
      "source": [
        "# 258 add digits\n",
        "\n",
        "num = 0\n",
        "# Output: 2\n",
        "# Explanation: The process is\n",
        "# 38 --> 3 + 8 --> 11\n",
        "# 11 --> 1 + 1 --> 2\n",
        "# Since 2 has only one digit, return it.\n",
        "# # Follow up: Could you do it without any loop/recursion in O(1) runtime?\n",
        "\n",
        "# total_sum = sum(map(int, str(num)))\n",
        "# while total_sum>=10:\n",
        "#     total_sum=sum(map(int, str(total_sum)))\n",
        "# print(total_sum)\n",
        "\n",
        "# optimal solution\n",
        "\n",
        "if num==0:\n",
        "  print(0)\n",
        "\n",
        "digit_root=num%9\n",
        "print(9) if digit_root == 0 else print(digit_root)"
      ]
    },
    {
      "cell_type": "code",
      "execution_count": null,
      "metadata": {
        "colab": {
          "base_uri": "https://localhost:8080/"
        },
        "id": "sse1tZvEM28l",
        "outputId": "8ac8603c-2157-4d3e-8698-24c6b2e022bb"
      },
      "outputs": [
        {
          "data": {
            "text/plain": [
              "['h', 'a', 'n', 'n', 'a', 'H']"
            ]
          },
          "execution_count": 4,
          "metadata": {},
          "output_type": "execute_result"
        }
      ],
      "source": [
        "s1 = [\"h\",\"e\",\"l\",\"l\",\"o\"]\n",
        "# Output: [\"o\",\"l\",\"l\",\"e\",\"h\"]\n",
        "\n",
        "\n",
        "s2 = [\"H\",\"a\",\"n\",\"n\",\"a\",\"h\"]\n",
        "# Output: [\"h\",\"a\",\"n\",\"n\",\"a\",\"H\"]\n",
        "\n",
        "def reversed\n",
        "s2[::-1]"
      ]
    },
    {
      "cell_type": "code",
      "execution_count": null,
      "metadata": {
        "colab": {
          "base_uri": "https://localhost:8080/"
        },
        "id": "oGfuqQ70M2-7",
        "outputId": "3b1227ed-0f2d-46f8-ec07-1ffaeea90fed"
      },
      "outputs": [
        {
          "name": "stdout",
          "output_type": "stream",
          "text": [
            "['a', 'a', 'a', 'g', 'm', 'n', 'r'] ['a', 'a', 'a', 'g', 'm', 'n', 'r']\n"
          ]
        }
      ],
      "source": [
        "# Valid Anagram\n",
        "\n",
        "s = \"anagram\"\n",
        "t = \"nagaram\"\n",
        "\n",
        "# if len(s)!=len(t):\n",
        "  # print(False)\n",
        "\n",
        "\n",
        "s1=sorted(s)\n",
        "t1=sorted(t)\n",
        "\n",
        "print(s1, t1)"
      ]
    },
    {
      "cell_type": "code",
      "execution_count": null,
      "metadata": {
        "colab": {
          "base_uri": "https://localhost:8080/"
        },
        "id": "xupgrzIAM3B7",
        "outputId": "eab66f11-60e8-4948-d98e-af28261f6cdc"
      },
      "outputs": [
        {
          "name": "stdout",
          "output_type": "stream",
          "text": [
            "134\n"
          ]
        }
      ],
      "source": [
        "# add strings\n",
        "\n",
        "num1 = \"11\"; num2 = \"123\"\n",
        "Output: \"134\"\n",
        "\n",
        "# nu1=\n",
        "# nu2=\n",
        "\n",
        "print(str(int(num1)+int(num2)))"
      ]
    },
    {
      "cell_type": "code",
      "execution_count": null,
      "metadata": {
        "colab": {
          "base_uri": "https://localhost:8080/"
        },
        "id": "d1MQdtGIM3Fb",
        "outputId": "2eac221e-dd94-4d06-e79b-7a377bee4dd3"
      },
      "outputs": [
        {
          "name": "stdout",
          "output_type": "stream",
          "text": [
            "134\n"
          ]
        }
      ],
      "source": [
        "num1 = \"11\"; num2 = \"123\"\n",
        "Output: \"134\"\n",
        "\n",
        "i, j = len(num1)-1 , len(num2)-1\n",
        "carry=0\n",
        "result=[]\n",
        "\n",
        "while i>=0 or j>=0 or carry:\n",
        "  dig1 = int(num1[i]) if i>=0 else 0\n",
        "  dig2 = int(num2[j]) if j>=0 else 0\n",
        "\n",
        "  total = dig1+dig2+carry\n",
        "  carry = total//10\n",
        "  result.append(str(total%10))\n",
        "\n",
        "  i-=1\n",
        "  j-=1\n",
        "\n",
        "print(\"\".join(reversed(result)))"
      ]
    },
    {
      "cell_type": "code",
      "execution_count": null,
      "metadata": {
        "colab": {
          "base_uri": "https://localhost:8080/"
        },
        "id": "kBsT7aXUTXlb",
        "outputId": "3464924d-9627-46ab-e53a-5132ff9bddeb"
      },
      "outputs": [
        {
          "name": "stdout",
          "output_type": "stream",
          "text": [
            "False\n",
            "True\n",
            "True\n"
          ]
        }
      ],
      "source": [
        "# vaild words\n",
        "word=\"23\"\n",
        "\n",
        "ary=set('0123456789')\n",
        "vowel     = set('aeiouAEIOU')\n",
        "consonant = set('bcdfghjklmnpqrstvwxyzBCDFGHJKLMNPQRSTVWXYZ')\n",
        "\n",
        "\n",
        "\n",
        "\n",
        "if len(word)<3:\n",
        "  print(False)\n",
        "for ch in word:\n",
        "  if ch not in allowed:\n",
        "    print(False)\n",
        "  print(True)"
      ]
    },
    {
      "cell_type": "code",
      "execution_count": null,
      "metadata": {
        "id": "OB_c9fVxywJ8"
      },
      "outputs": [],
      "source": [
        "pattern = \"abba\"\n",
        "s = \"dog cat cat dog\"\n",
        "\n",
        "# Output: true\n",
        "\n",
        "if len(pattern)!=len(s):\n",
        "  print(False)\n",
        "\n",
        "i=0\n",
        "\n",
        "for ch in s.split():\n",
        "  if\n",
        "\n",
        "\n"
      ]
    },
    {
      "cell_type": "code",
      "execution_count": null,
      "metadata": {
        "colab": {
          "base_uri": "https://localhost:8080/"
        },
        "id": "U0Pmat7tywG_",
        "outputId": "d6d586f9-ae8f-4289-d7f2-a914a422de5d"
      },
      "outputs": [
        {
          "name": "stdout",
          "output_type": "stream",
          "text": [
            "dog\n",
            "cat\n",
            "cat\n",
            "dog\n"
          ]
        }
      ],
      "source": [
        "s = \"dog cat cat dog\"\n",
        "\n",
        "for ch in s.split():\n",
        "  print(ch)"
      ]
    },
    {
      "cell_type": "code",
      "execution_count": null,
      "metadata": {
        "colab": {
          "base_uri": "https://localhost:8080/"
        },
        "id": "aaii8_OjywEU",
        "outputId": "dfbd6cb6-03c8-4b8e-f8f3-1ddc28d13342"
      },
      "outputs": [
        {
          "name": "stdout",
          "output_type": "stream",
          "text": [
            "a\n"
          ]
        }
      ],
      "source": [
        "s = \"\"\n",
        "t = \"a\"\n",
        "# Output: \"e\"\n",
        "\n",
        "res=0\n",
        "\n",
        "for ch in s:\n",
        "  res ^= ord(ch)\n",
        "for ch in t:\n",
        "  res ^= ord(ch)\n",
        "print(chr(res))"
      ]
    },
    {
      "cell_type": "code",
      "execution_count": null,
      "metadata": {
        "colab": {
          "base_uri": "https://localhost:8080/"
        },
        "id": "T6zedwYfywBc",
        "outputId": "cda91d46-edb2-4d6b-9cc5-190d081024c7"
      },
      "outputs": [
        {
          "name": "stdout",
          "output_type": "stream",
          "text": [
            "[1, 1, 2, 3, 4, 4]\n"
          ]
        }
      ],
      "source": [
        "# Merge sorted list\n",
        "\n",
        "list1 = [1,2,4]\n",
        "list2 = [1,3,4]\n",
        "# Output: [1,1,2,3,4,4]\n",
        "\n",
        "def __init__(self, val=0, next=None):\n",
        "  self.val = val\n",
        "  self.next = next\n",
        "\n",
        "def megrelist(list1, list2):\n",
        "  dummy=List"
      ]
    },
    {
      "cell_type": "code",
      "execution_count": null,
      "metadata": {
        "id": "AymlGW8S7OQA"
      },
      "outputs": [],
      "source": [
        "# First occurances\n",
        "\n",
        "haystack = \"sadbutsad\", needle = \"sad\"\n",
        "# Output: 0\n",
        "# Explanation: \"sad\" occurs at index 0 and 6.\n",
        "# The first occurrence is at index 0, so we return 0.\n",
        "\n",
        "haystack = \"leetcode\", needle = \"leeto\"\n",
        "# Output: -1\n",
        "# Explanation: \"leeto\" did not occur in \"leetcode\", so we return -1.\n"
      ]
    },
    {
      "cell_type": "code",
      "execution_count": null,
      "metadata": {
        "colab": {
          "base_uri": "https://localhost:8080/"
        },
        "id": "0FsFYWYIEUTQ",
        "outputId": "ca627efd-6845-4bec-e2e5-4ee576350286"
      },
      "outputs": [
        {
          "name": "stdout",
          "output_type": "stream",
          "text": [
            "[[1], [1, 1], [1, 2, 1], [1, 3, 3, 1], [1, 4, 6, 4, 1], [1, 5, 10, 10, 5, 1]]\n"
          ]
        }
      ],
      "source": [
        "# Pascal's Triangle\n",
        "\n",
        "numRows = 6\n",
        "# Output: [[1],[1,1],[1,2,1],[1,3,3,1],[1,4,6,4,1]]\n",
        "\n",
        "res=[[1]]\n",
        "\n",
        "for i in range(numRows-1):\n",
        "  temp = [0] + res[-1] + [0]\n",
        "  row = []\n",
        "  for j in range(len(res[-1])+1):\n",
        "    row.append(temp[j]+temp[j+1])\n",
        "  res.append(row)\n",
        "\n",
        "print(res)"
      ]
    },
    {
      "cell_type": "code",
      "execution_count": null,
      "metadata": {
        "colab": {
          "base_uri": "https://localhost:8080/"
        },
        "id": "ABSG1XGKET-v",
        "outputId": "c4651e0a-7b98-4583-c0b6-26e740ac67bd"
      },
      "outputs": [
        {
          "name": "stdout",
          "output_type": "stream",
          "text": [
            "[[-1, 0, 1]]\n"
          ]
        }
      ],
      "source": [
        "# 3sum\n",
        "\n",
        "# nums = [-1,0,1,2,-1,-4]\n",
        "# Output: [[-1,-1,2],[-1,0,1]]\n",
        "# nums[0] + nums[1] + nums[2] = (-1) + 0 + 1 = 0.\n",
        "# nums[1] + nums[2] + nums[4] = 0 + 1 + (-1) = 0.\n",
        "# nums[0] + nums[3] + nums[4] = (-1) + 2 + (-1) = 0.\n",
        "# The distinct triplets are [-1,0,1] and [-1,-1,2].\n",
        "\n",
        "# nums = [0,1,1]\n",
        "# Output: []\n",
        "# Explanation: The only possible triplet does not sum up to 0.\n",
        "\n",
        "nums=[1,-1,-1,0]\n",
        "# Output: [[0,0,0]]\n",
        "# Explanation: The only possible triplet sums up to 0.\n",
        "\n",
        "nums.sort()\n",
        "n = len(nums)\n",
        "res = []\n",
        "\n",
        "for i in range(n-2):\n",
        "  if i>0 and nums[i] == nums[i-1]:\n",
        "    continue\n",
        "\n",
        "  l, r = i+1, n-1\n",
        "  while l < r:\n",
        "    sum = nums[i]+nums[l]+nums[r]\n",
        "\n",
        "    if sum<0:\n",
        "      l+=1\n",
        "    elif sum>0:\n",
        "      r-=1\n",
        "    else:\n",
        "      res.append([nums[i], nums[l], nums[r]])\n",
        "\n",
        "      while l<r and nums[l]==nums[l+1]:\n",
        "        l+=1\n",
        "\n",
        "      while l<r and nums[r]==nums[r-1]:\n",
        "        r-=1\n",
        "\n",
        "      l+=1\n",
        "      r-=1\n",
        "\n",
        "print(res)"
      ]
    },
    {
      "cell_type": "code",
      "execution_count": null,
      "metadata": {
        "colab": {
          "base_uri": "https://localhost:8080/"
        },
        "id": "IzYk_ASuET7V",
        "outputId": "6748405a-fedc-4ac4-eb11-37a3291e81d3"
      },
      "outputs": [
        {
          "name": "stdout",
          "output_type": "stream",
          "text": [
            "['PIN', 'ALSIG', 'YAHR', 'PI']\n",
            "PINALSIGYAHRPI\n"
          ]
        }
      ],
      "source": [
        "## Zig zag conversation\n",
        "\n",
        "# Input: s = \"PAYPALISHIRING\"\n",
        "# numRows = 3\n",
        "# P   A   H   N\n",
        "# A P L S I I G\n",
        "# Y   I   R\n",
        "# Output: \"PAHNAPLSIIGYIR\"\n",
        "\n",
        "\n",
        "s = \"PAYPALISHIRING\"\n",
        "numRows = 4\n",
        "# Output: \"PINALSIGYAHRPI\"\n",
        "# Explanation:\n",
        "# P     I    N\n",
        "# A   L S  I G\n",
        "# Y A   H R\n",
        "# P     I\n",
        "\n",
        "if numRows==1 or numRows>=len(s):\n",
        "  print(s)\n",
        "\n",
        "# create an arrat\n",
        "\n",
        "rows=['']*numRows\n",
        "current_row = 0\n",
        "going_down = False\n",
        "\n",
        "for char in s:\n",
        "  rows[current_row] += char\n",
        "\n",
        "  if current_row == 0 or current_row == numRows-1:\n",
        "    going_down = not going_down\n",
        "\n",
        "  current_row += 1 if going_down else -1\n",
        "\n",
        "print(rows)\n",
        "print(\"\".join(rows))\n",
        "# s = \"A\"\n",
        "# numRows = 1\n",
        "# Output: \"A\""
      ]
    },
    {
      "cell_type": "code",
      "execution_count": null,
      "metadata": {
        "colab": {
          "base_uri": "https://localhost:8080/"
        },
        "id": "I3ATYwJpET3L",
        "outputId": "52c596fa-be0f-4cc0-ef3d-237809450916"
      },
      "outputs": [
        {
          "name": "stdout",
          "output_type": "stream",
          "text": [
            "2\n",
            "{'w', 'p', 'k', 'e'}\n"
          ]
        }
      ],
      "source": [
        "# Longest Substring Without Repeating Characters\n",
        "s = \"pwwkew\"\n",
        "st=set(s)\n",
        "# Output: 3\n",
        "# Explanation: The answer is \"wke\", with the length of 3.\n",
        "# Notice that the answer must be a substring, \"pwke\" is a subsequence and not a substring.\n",
        "\n",
        "mxln=1\n",
        "i=0\n",
        "for j in range(1, len(st)):\n",
        "  if s[i]!=s[j]:\n",
        "    mxln+=1\n",
        "    i+=1\n",
        "  else:\n",
        "    mxln=1\n",
        "print(mxln)\n",
        "print(st)"
      ]
    },
    {
      "cell_type": "code",
      "execution_count": null,
      "metadata": {
        "id": "gsaLkvLTETw6"
      },
      "outputs": [],
      "source": [
        "\n",
        "char_set = set()\n",
        "left = 0\n",
        "max_len = 0\n",
        "\n",
        "for right in range(len(s)):\n",
        "  while s[right] in char_set:\n",
        "    char_set.remove(s[left])\n",
        "    left += 1\n",
        "    char_set.add(s[right])\n",
        "    max_len = max(max_len, right - left + 1)\n",
        "print(max_len)"
      ]
    },
    {
      "cell_type": "code",
      "execution_count": null,
      "metadata": {
        "colab": {
          "base_uri": "https://localhost:8080/"
        },
        "id": "sVAxjtVBETtp",
        "outputId": "822bcddd-ce4a-4290-db90-0c1014477373"
      },
      "outputs": [
        {
          "name": "stdout",
          "output_type": "stream",
          "text": [
            "4\n"
          ]
        }
      ],
      "source": [
        "# 3. Longest Substring Without Repeating Characters\n",
        "# Given a string s, find the length of the longest substring without duplicate characters.\n",
        "\n",
        "# s = \"abcabcbb\"\n",
        "# Output: 3\n",
        "# Explanation: The answer is \"abc\", with the length of 3.\n",
        "\n",
        "# s = \"bbbbb\"\n",
        "# Output: 1\n",
        "# Explanation: The answer is \"b\", with the length of 1.\n",
        "\n",
        "s = \"pwwkewpwpesw\"\n",
        "# Output: 3\n",
        "# Explanation: The answer is \"wke\", with the length of 3.\n",
        "# Notice that the answer must be a substring, \"pwke\" is a subsequence and not a substring.\n",
        "\n",
        "charSet=set()\n",
        "mx = 0\n",
        "l = 0\n",
        "\n",
        "for r in range(len(s)):\n",
        "  while s[r] in charSet:\n",
        "    charSet.remove(s[l])\n",
        "    l+=1\n",
        "  charSet.add(s[r])\n",
        "  mx = max(mx, r-l+1)\n",
        "print(mx)"
      ]
    },
    {
      "cell_type": "code",
      "execution_count": null,
      "metadata": {
        "colab": {
          "base_uri": "https://localhost:8080/"
        },
        "id": "4pYsTa9OETqL",
        "outputId": "36480bab-ef34-42fd-8832-9f267eca8426"
      },
      "outputs": [
        {
          "name": "stdout",
          "output_type": "stream",
          "text": [
            "4\n"
          ]
        }
      ],
      "source": [
        "import math\n",
        "a = 3\n",
        "b = 4\n",
        "\n",
        "mx = max(a, b)\n",
        "print(mx)"
      ]
    },
    {
      "cell_type": "code",
      "execution_count": null,
      "metadata": {
        "colab": {
          "base_uri": "https://localhost:8080/"
        },
        "id": "96_CPvBpETm3",
        "outputId": "7c2cc746-261c-425c-9ce1-114c29690b2e"
      },
      "outputs": [
        {
          "name": "stdout",
          "output_type": "stream",
          "text": [
            "The maximum of 15 and 27 is: 27\n"
          ]
        }
      ],
      "source": [
        "num1 = 15\n",
        "num2 = 27\n",
        "\n",
        "maximum_number = max(num1, num2)\n",
        "print(f\"The maximum of {num1} and {num2} is: {maximum_number}\")"
      ]
    },
    {
      "cell_type": "code",
      "execution_count": null,
      "metadata": {
        "colab": {
          "base_uri": "https://localhost:8080/"
        },
        "id": "8Kmf7GjYETgA",
        "outputId": "48fd32b5-c803-4161-e400-4279592b0bc7"
      },
      "outputs": [
        {
          "name": "stdout",
          "output_type": "stream",
          "text": [
            "10-->20-->30-->40-->50-->60-->None\n",
            "0-->10-->20-->30-->40-->50-->60-->None\n"
          ]
        }
      ],
      "source": [
        "class Node:\n",
        "  def __init__(self, data):\n",
        "    self.data = data\n",
        "    self.next = None\n",
        "\n",
        "node1 = Node(10)\n",
        "node2 = Node(20)\n",
        "node3 = Node(30)\n",
        "node4 = Node(40)\n",
        "node5 = Node(50)\n",
        "node6 = Node(60)\n",
        "\n",
        "\n",
        "head = node1\n",
        "node1.next = node2\n",
        "node2.next = node3\n",
        "node3.next = node4\n",
        "node4.next = node5\n",
        "node5.next = node6\n",
        "\n",
        "current = node1\n",
        "while current is not None:\n",
        "  print(current.data, end='-->')\n",
        "  current = current.next\n",
        "print(None)\n",
        "\n",
        "\n",
        "# adding new node at the beganing\n",
        "new_node = Node(0)\n",
        "new_node.next = head\n",
        "head = new_node\n",
        "\n",
        "current = head\n",
        "while current is not None:\n",
        "  print(current.data, end='-->')\n",
        "  current = current.next\n",
        "print(None)"
      ]
    },
    {
      "cell_type": "code",
      "execution_count": null,
      "metadata": {
        "colab": {
          "base_uri": "https://localhost:8080/"
        },
        "id": "OaOcpxJBETdB",
        "outputId": "dda88648-b911-4ed9-d0ba-5cbc9fbc3035"
      },
      "outputs": [
        {
          "name": "stdout",
          "output_type": "stream",
          "text": [
            "1->1->2->3->3->None\n",
            "1->2->3->"
          ]
        }
      ],
      "source": [
        "class Node:\n",
        "  def __init__(self, val):\n",
        "    self.val = val\n",
        "    self.next = None\n",
        "\n",
        "#create node\n",
        "node1=Node(1)\n",
        "node2=Node(1)\n",
        "node3=Node(2)\n",
        "node4=Node(3)\n",
        "node5=Node(3)\n",
        "\n",
        "#connect\n",
        "head=node1\n",
        "node1.next = node2\n",
        "node2.next = node3\n",
        "node3.next = node4\n",
        "node4.next = node5\n",
        "\n",
        "#print linked list\n",
        "current = head\n",
        "while current is not None:\n",
        "  print(current.val, end='->')\n",
        "  current = current.next\n",
        "print(None)\n",
        "\n",
        "#remove duplicates\n",
        "current = head\n",
        "while current and current.next:\n",
        "  if current.val == current.next.val:\n",
        "    current.next = current.next.next\n",
        "  else:\n",
        "    current = current.next\n",
        "\n",
        "#print linked list\n",
        "current = head\n",
        "while current is not None:\n",
        "  print(current.val, end='->')\n",
        "  current = current.next"
      ]
    },
    {
      "cell_type": "code",
      "execution_count": null,
      "metadata": {
        "colab": {
          "base_uri": "https://localhost:8080/"
        },
        "id": "vpEK1g8XETZb",
        "outputId": "ee0af457-473b-451c-cbe1-6972057ac48b"
      },
      "outputs": [
        {
          "name": "stdout",
          "output_type": "stream",
          "text": [
            "1->2->3->4->5->"
          ]
        }
      ],
      "source": [
        "# 19. Remove Nth Node From End of List\n",
        "\n",
        "head = [1,2,3,4,5]\n",
        "# Output: [1,2,3,5]\n",
        "\n",
        "class Node:\n",
        "  def __init__(self, val) -> None:\n",
        "    self.val = val\n",
        "    self.next = None\n",
        "\n",
        "node1 = Node(1)\n",
        "node2 = Node(2)\n",
        "node3 = Node(3)\n",
        "node4 = Node(4)\n",
        "node5 = Node(5)\n",
        "\n",
        "head = node1\n",
        "node1.next = node2\n",
        "node2.next = node3\n",
        "node3.next = node4\n",
        "node4.next = node5\n",
        "\n",
        "current = head\n",
        "while current is not None:\n",
        "  print(current.val, end='->')\n",
        "  current = current.next\n",
        "\n",
        "n = 2\n",
        "while current and current.next:\n",
        "\n",
        "\n"
      ]
    },
    {
      "cell_type": "code",
      "execution_count": null,
      "metadata": {
        "id": "lrrADQKUETWg"
      },
      "outputs": [],
      "source": [
        "# 5. Longest Palindromic Substring\n",
        "\n",
        "s = \"babad\"\n",
        "# Output: \"bab\"\n",
        "# Explanation: \"aba\" is also a valid answer.\n",
        "\n",
        "left = 0\n",
        "right = len(s)-1\n",
        "\n",
        "while left<right:\n",
        "  if\n",
        "\n"
      ]
    },
    {
      "cell_type": "code",
      "execution_count": null,
      "metadata": {
        "colab": {
          "base_uri": "https://localhost:8080/"
        },
        "id": "Ce2tWLZgETT3",
        "outputId": "3eac20a0-e9e1-490a-a03e-193a3e12cf75"
      },
      "outputs": [
        {
          "name": "stdout",
          "output_type": "stream",
          "text": [
            "3\n"
          ]
        }
      ],
      "source": [
        "# 2210. Count Hills and Valleys in an Array\n",
        "nums = [2, 4, 1, 1, 1, 6, 5]\n",
        "n = len(nums)\n",
        "res=0\n",
        "\n",
        "for j in range(1, n-1):\n",
        "  if nums[j]==nums[j-1]:\n",
        "    continue\n",
        "\n",
        "  i = j-1\n",
        "  while i>=0 and nums[i]==nums[j]:\n",
        "    i-=1\n",
        "  if i<0:\n",
        "    continue\n",
        "\n",
        "  left_val = nums[i]\n",
        "\n",
        "  i = j+1\n",
        "  while i<n and nums[i]==nums[j]:\n",
        "    i+=1\n",
        "  if i>=n:\n",
        "    continue\n",
        "\n",
        "  right_val = nums[i]\n",
        "\n",
        "  if nums[j]>left_val and nums[j]>right_val:\n",
        "    res+=1\n",
        "  elif nums[j]<left_val and nums[j]<right_val:\n",
        "    res+=1\n",
        "print(res)"
      ]
    },
    {
      "cell_type": "code",
      "execution_count": null,
      "metadata": {
        "colab": {
          "base_uri": "https://localhost:8080/"
        },
        "id": "dPE5BzvEETQr",
        "outputId": "23cfdb32-cd69-4dce-97b1-a789eef4b4d1"
      },
      "outputs": [
        {
          "name": "stdout",
          "output_type": "stream",
          "text": [
            "1\n",
            "2\n",
            "3\n"
          ]
        }
      ],
      "source": [
        "my_set = {1, 2, 3}\n",
        "for item in my_set:\n",
        "    print(item)"
      ]
    },
    {
      "cell_type": "code",
      "execution_count": null,
      "metadata": {
        "colab": {
          "base_uri": "https://localhost:8080/"
        },
        "id": "b5cm4AvUETNY",
        "outputId": "8678639d-9b52-4094-8c9e-11dc5a257f1e"
      },
      "outputs": [
        {
          "name": "stdout",
          "output_type": "stream",
          "text": [
            "[1, 2, 3, 4, 5]\n"
          ]
        }
      ],
      "source": [
        "my_list = [1, 2, 2, 3, 4, 4, 5]\n",
        "unique_list = list(dict.fromkeys(my_list))\n",
        "print(unique_list) # Output: [1, 2, 3, 4, 5]"
      ]
    },
    {
      "cell_type": "code",
      "execution_count": null,
      "metadata": {
        "colab": {
          "base_uri": "https://localhost:8080/"
        },
        "id": "8_hGZxc0ETKb",
        "outputId": "1581e730-51e4-4ea2-9123-7af42bc966a5"
      },
      "outputs": [
        {
          "name": "stdout",
          "output_type": "stream",
          "text": [
            "[1, 2, 3, 4, 5, 6]\n"
          ]
        }
      ],
      "source": [
        "my_list = [1, 2, 2, 3, 6 , 4, 4, 5]\n",
        "unique_list = list(set(my_list))\n",
        "print(unique_list) # Output: [1, 2, 3, 4, 5] (order may vary)"
      ]
    },
    {
      "cell_type": "code",
      "execution_count": null,
      "metadata": {
        "colab": {
          "base_uri": "https://localhost:8080/"
        },
        "id": "2PIUq6QCETHo",
        "outputId": "34a288af-bdc0-4113-eea4-ae21f216190a"
      },
      "outputs": [
        {
          "output_type": "stream",
          "name": "stdout",
          "text": [
            "1->2->3->4->5->None\n",
            "2->1->4->3->5->None\n"
          ]
        }
      ],
      "source": [
        "class Node:\n",
        "  def __init__(self, val):\n",
        "    self.val = val\n",
        "    self.next = None\n",
        "\n",
        "node1 = Node(1)\n",
        "node2 = Node(2)\n",
        "node3 = Node(3)\n",
        "node4 = Node(4)\n",
        "node5 = Node(5)\n",
        "\n",
        "head = node1\n",
        "node1.next = node2\n",
        "node2.next = node3\n",
        "node3.next = node4\n",
        "node4.next = node5\n",
        "\n",
        "current = head\n",
        "while current is not None:\n",
        "  print(current.val, end='->')\n",
        "  current = current.next\n",
        "print(None)\n",
        "\n",
        "#Swap the element\n",
        "dummy = Node(0)\n",
        "dummy.next = head\n",
        "prev = dummy\n",
        "\n",
        "while prev.next and prev.next.next:\n",
        "  first = prev.next\n",
        "  second = prev.next.next\n",
        "\n",
        "  prev.next = second\n",
        "  first.next = second.next\n",
        "  second.next = first\n",
        "\n",
        "  prev = first\n",
        "head = dummy.next\n",
        "\n",
        "current = head\n",
        "while current is not None:\n",
        "  print(current.val, end='->')\n",
        "  current = current.next\n",
        "print(None)\n",
        "\n",
        "# Output: [2,1,3]"
      ]
    },
    {
      "cell_type": "code",
      "execution_count": null,
      "metadata": {
        "id": "CXxGmfQL3m4c"
      },
      "outputs": [],
      "source": [
        "class Node:\n",
        "  def __init__(self, val):\n",
        "    self.val = val\n",
        "    self.next = None\n",
        "\n",
        "#create node\n",
        "node1=Node(1)\n",
        "node2=Node(1)\n",
        "node3=Node(2)\n",
        "node4=Node(3)\n",
        "node5=Node(3)\n",
        "\n",
        "#connect\n",
        "head=node1\n",
        "node1.next = node2\n",
        "node2.next = node3\n",
        "node3.next = node4\n",
        "node4.next = node5\n",
        "\n",
        "#print linked list\n",
        "current = head\n",
        "while current is not None:\n",
        "  print(current.val, end='->')\n",
        "  current = current.next\n",
        "print(None)"
      ]
    },
    {
      "cell_type": "code",
      "execution_count": null,
      "metadata": {
        "id": "aXnBDWxC__R6",
        "colab": {
          "base_uri": "https://localhost:8080/"
        },
        "outputId": "2eda1cac-0853-44a9-a310-2c658cb984c4"
      },
      "outputs": [
        {
          "output_type": "stream",
          "name": "stdout",
          "text": [
            "1-->2-->3-->4-->5-->None\n",
            "5\n"
          ]
        }
      ],
      "source": [
        "head = [1,2,3,4,5]\n",
        "k = 2\n",
        "# Output: [4,5,1,2,3]\n",
        "\n",
        "class Node:\n",
        "  def __init__(self, val):\n",
        "    self.val = val\n",
        "    self.next = None\n",
        "\n",
        "node1 = Node(1)\n",
        "node2 = Node(2)\n",
        "node3 = Node(3)\n",
        "node4 = Node(4)\n",
        "node5 = Node(5)\n",
        "\n",
        "head = node1\n",
        "node1.next = node2\n",
        "node2.next = node3\n",
        "node3.next = node4\n",
        "node4.next = node5\n",
        "\n",
        "count = 0\n",
        "current = head\n",
        "while current is not None:\n",
        "  print(current.val, end='-->')\n",
        "  current = current.next\n",
        "  count+=1\n",
        "print(None)\n",
        "\n",
        "print(count)"
      ]
    },
    {
      "cell_type": "code",
      "source": [],
      "metadata": {
        "colab": {
          "base_uri": "https://localhost:8080/"
        },
        "id": "-agNChS7lRw-",
        "outputId": "95656e21-b0e5-4db3-f12c-fee485df5891"
      },
      "execution_count": null,
      "outputs": [
        {
          "output_type": "execute_result",
          "data": {
            "text/plain": [
              "3"
            ]
          },
          "metadata": {},
          "execution_count": 12
        }
      ]
    },
    {
      "cell_type": "code",
      "source": [],
      "metadata": {
        "id": "Mhw8me3klRmt"
      },
      "execution_count": null,
      "outputs": []
    },
    {
      "cell_type": "code",
      "source": [],
      "metadata": {
        "id": "6myeAmUklRjL"
      },
      "execution_count": null,
      "outputs": []
    },
    {
      "cell_type": "code",
      "source": [],
      "metadata": {
        "id": "kmgBYQ8RlRfk"
      },
      "execution_count": null,
      "outputs": []
    },
    {
      "cell_type": "code",
      "source": [],
      "metadata": {
        "id": "7sayf9VTlRcQ"
      },
      "execution_count": null,
      "outputs": []
    },
    {
      "cell_type": "code",
      "source": [],
      "metadata": {
        "id": "zW1yBPJ0lRSc"
      },
      "execution_count": null,
      "outputs": []
    }
  ],
  "metadata": {
    "colab": {
      "provenance": []
    },
    "kernelspec": {
      "display_name": "Python 3",
      "name": "python3"
    },
    "language_info": {
      "name": "python"
    }
  },
  "nbformat": 4,
  "nbformat_minor": 0
}